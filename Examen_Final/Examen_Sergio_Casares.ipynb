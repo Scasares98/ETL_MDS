{
  "nbformat": 4,
  "nbformat_minor": 0,
  "metadata": {
    "colab": {
      "name": "Examen_Sergio_Casares.ipynb",
      "provenance": [],
      "collapsed_sections": []
    },
    "kernelspec": {
      "name": "python3",
      "display_name": "Python 3"
    }
  },
  "cells": [
    {
      "cell_type": "markdown",
      "metadata": {
        "id": "Y5ErTyfisu0a"
      },
      "source": [
        "# TAREA FINAL: Datos de vivienda\r\n",
        "\r\n",
        "### Nombre: Sergio Casares Fernández\r\n",
        "\r\n",
        "\r\n",
        "El negocio inmobiliario es uno de los motores de la economía de España, el carácter turístico de nuesta península hace que sean muchos los inversores extranjeros que se decidan por buscar una inversión de bajo riesgos en nuestras ciudades costeras o grandes urbes. Muchas de estas inversiones se hacen sobre grandes bolsas de inmuebles que deben ser analizados previamente para comprobar la rentabilidad del porfolio"
      ]
    },
    {
      "cell_type": "markdown",
      "metadata": {
        "id": "CkKYYOiZs7yB"
      },
      "source": [
        "Todas las cuestiones se deben realizar sobre el conjunto de casos que representen viviendas ubicadas en zonas residenciales (alta, media y baja densidad)"
      ]
    },
    {
      "cell_type": "markdown",
      "metadata": {
        "id": "FGak56pKs7uc"
      },
      "source": [
        "MUY IMPORTANTE: En las otras prácticas he detectado colaboraciones involucrando varias personas y he sido flexible aunque a algunos os lo he mencionado en las correcciones, porque al final el trabajo de analista de datos es un trabajo colaborativo. Sin embargo, este trabajo es individual, así que cuidado con las colaboraciones."
      ]
    },
    {
      "cell_type": "markdown",
      "metadata": {
        "id": "d5HDDvkQtJOf"
      },
      "source": [
        "### 1. Inicializar y cargar el contexto spark\r\n",
        "\r\n",
        "Inicializamos el contexto Spark y todas la dependencias necesarias"
      ]
    },
    {
      "cell_type": "code",
      "metadata": {
        "id": "Y-m2YDYKqjXT"
      },
      "source": [
        "!apt-get install openjdk-8-jdk-headless -qq > /dev/null\r\n",
        "!wget -q https://www-us.apache.org/dist/spark/spark-2.4.7/spark-2.4.7-bin-hadoop2.7.tgz\r\n",
        "!tar xf spark-2.4.7-bin-hadoop2.7.tgz\r\n",
        "!pip install -q findspark\r\n",
        "\r\n",
        "import os\r\n",
        "os.environ[\"JAVA_HOME\"] = \"/usr/lib/jvm/java-8-openjdk-amd64\"\r\n",
        "os.environ[\"SPARK_HOME\"] = \"/content/spark-2.4.7-bin-hadoop2.7\"\r\n",
        "\r\n",
        "import findspark\r\n",
        "findspark.init()\r\n",
        "from pyspark import SparkContext\r\n",
        "sc = SparkContext.getOrCreate()\r\n",
        "from pyspark.sql import SparkSession\r\n",
        "spark = SparkSession.builder.master(\"local[*]\").getOrCreate()"
      ],
      "execution_count": 2,
      "outputs": []
    },
    {
      "cell_type": "code",
      "metadata": {
        "id": "tLIAziYHql5-"
      },
      "source": [
        "import urllib.request\r\n",
        "f = urllib.request.urlretrieve (\"http://kdd.ics.uci.edu/databases/kddcup99/kddcup.data_10_percent.gz\", \"kddcup.data_10_percent.gz\")"
      ],
      "execution_count": 3,
      "outputs": []
    },
    {
      "cell_type": "code",
      "metadata": {
        "id": "TYvoRyuhql3W"
      },
      "source": [
        "from pyspark import SparkContext\r\n",
        "from pyspark.sql.functions import desc\r\n",
        "from pyspark.context import SparkContext\r\n",
        "from pyspark.sql.session import SparkSession\r\n",
        "from pyspark.sql import *\r\n",
        "from pyspark.sql import SQLContext, functions as F, Row\r\n",
        "from pyspark.sql.types import *\r\n",
        "from pyspark.sql.types import StringType, IntegerType\r\n",
        "\r\n",
        "# Librería para dar formato a las salidas obtenidas\r\n",
        "import pandas as pd\r\n",
        "import numpy as np\r\n",
        "# Librería para aplicar expresiones regulares en el parseado\r\n",
        "import re\r\n",
        "# librería para parsear las fechas con formato date\r\n",
        "from datetime import datetime\r\n",
        "# Librería que permite descargar información de una url desde python\r\n",
        "import urllib\r\n",
        "from urllib.request import urlretrieve\r\n",
        "# Librería para llamar a funciones relacionadas con el sistema operativo\r\n",
        "import os\r\n",
        "\r\n"
      ],
      "execution_count": 4,
      "outputs": []
    },
    {
      "cell_type": "code",
      "metadata": {
        "id": "ryHzH8z20MIi"
      },
      "source": [
        "sc = SparkContext.getOrCreate()\r\n",
        "sqlContext = SQLContext(sc)"
      ],
      "execution_count": 5,
      "outputs": []
    },
    {
      "cell_type": "markdown",
      "metadata": {
        "id": "LDHajvJlNmSs"
      },
      "source": [
        "## Importar Dataset y Parseado\r\n",
        "\r\n",
        "Además de importar el dataset, a la hora de parsear, separaremos las columnas por el delimitador ';' y seleccionar las observaciones que sean de RL, RM y RH.\r\n",
        "\r\n",
        "En total son 168 observaciones que se eliminar del archivo."
      ]
    },
    {
      "cell_type": "code",
      "metadata": {
        "id": "hVGECDihtm1b"
      },
      "source": [
        "path = '/content/BDpracticafinalCSV.csv'\r\n",
        "\r\n",
        "raw_data = sc.textFile(path)"
      ],
      "execution_count": 6,
      "outputs": []
    },
    {
      "cell_type": "code",
      "metadata": {
        "colab": {
          "base_uri": "https://localhost:8080/"
        },
        "id": "GoYm03TIwbTY",
        "outputId": "2086e7d4-6120-4918-a0b9-abbc1f9f5c4d"
      },
      "source": [
        "raw_data.take(1)"
      ],
      "execution_count": 28,
      "outputs": [
        {
          "output_type": "execute_result",
          "data": {
            "text/plain": [
              "['Order;MS Zoning;Lot Frontage;Lot Area;Land Contour;Land Slope;Overall Qual;Year Built;Year Remod/Add;Mas Vnr Type;Exter Qual;Bsmt Cond;Total Bsmt SF;Heating QC;Central Air;Full Bath;Half Bath;Bedroom AbvGr;Kitchen AbvGr;Kitchen Qual;TotRms AbvGrd;Garage Cars;Garage Area;Garage Cond;Pool Area;Pool QC;Mo Sold;Yr Sold;SalePrice']"
            ]
          },
          "metadata": {
            "tags": []
          },
          "execution_count": 28
        }
      ]
    },
    {
      "cell_type": "code",
      "metadata": {
        "id": "7gPfaC0ttmrd"
      },
      "source": [
        "#Quitar encabezados\r\n",
        "\r\n",
        "raw_data_encabezado = raw_data.take(1)[0]\r\n",
        "raw_data =  raw_data.filter(lambda x: x != raw_data_encabezado)\r\n"
      ],
      "execution_count": 29,
      "outputs": []
    },
    {
      "cell_type": "code",
      "metadata": {
        "id": "BaiDSvbLu-V9"
      },
      "source": [
        "#PARSEAMOS LOS DATOS\r\n",
        "\r\n",
        "raw_data = raw_data.map(lambda x: x.split(\";\")) "
      ],
      "execution_count": 30,
      "outputs": []
    },
    {
      "cell_type": "code",
      "metadata": {
        "id": "oIsy0dyB6YG5"
      },
      "source": [
        "def cambios(x):\r\n",
        "  if x == 'rL':\r\n",
        "    return 'RL'\r\n",
        "  elif x == 'Rl':\r\n",
        "    return 'RL'\r\n",
        "  elif x == 'RL':\r\n",
        "    return 'RL'\r\n",
        "  elif x == 'RH':\r\n",
        "    return 'RH'\r\n",
        "  elif x == 'RM':\r\n",
        "    return 'RM'\r\n",
        "  elif x == 'FV':\r\n",
        "    return 'ELIMINAR'\r\n",
        "  elif x == 'RH':\r\n",
        "    return 'ELIMINAR'\r\n",
        "  elif x == 'C':\r\n",
        "    return 'ELIMINAR'\r\n",
        "  elif x == 'I':\r\n",
        "    return 'ELIMINAR'\r\n",
        "  elif x == 'A':\r\n",
        "    return 'ELIMINAR'\r\n",
        "  else:\r\n",
        "    'ELIMINAR'"
      ],
      "execution_count": 31,
      "outputs": []
    },
    {
      "cell_type": "code",
      "metadata": {
        "id": "pJ6TzRKl6X6z"
      },
      "source": [
        "raw_data_final = raw_data.map(lambda x : (x[0], cambios(x[1]), x[2],x[3],x[4],x[5],x[6],x[7],x[8],x[9],x[10],x[11],x[12],x[13],x[14],\r\n",
        "                                   x[15],x[16],x[17],x[18],x[19],x[20],x[21],x[22],x[23],x[24],x[25],x[26],x[27], x[28]))"
      ],
      "execution_count": 32,
      "outputs": []
    },
    {
      "cell_type": "code",
      "metadata": {
        "colab": {
          "base_uri": "https://localhost:8080/"
        },
        "id": "4mrvW4muERP8",
        "outputId": "e55aa982-20e9-432b-9a94-2c389cb749d3"
      },
      "source": [
        "raw_data_final.count()"
      ],
      "execution_count": 33,
      "outputs": [
        {
          "output_type": "execute_result",
          "data": {
            "text/plain": [
              "2936"
            ]
          },
          "metadata": {
            "tags": []
          },
          "execution_count": 33
        }
      ]
    },
    {
      "cell_type": "code",
      "metadata": {
        "id": "Zt-0TX9FDH-l"
      },
      "source": [
        "raw_data_final_filtrado = raw_data_final.filter(lambda x: not 'ELIMINAR' in x[1])"
      ],
      "execution_count": 34,
      "outputs": []
    },
    {
      "cell_type": "code",
      "metadata": {
        "colab": {
          "base_uri": "https://localhost:8080/"
        },
        "id": "ozKlYDmNDH8e",
        "outputId": "f0ddc3db-2bbb-4f27-8343-1e408671dc21"
      },
      "source": [
        "raw_data_final_filtrado.count()"
      ],
      "execution_count": 35,
      "outputs": [
        {
          "output_type": "execute_result",
          "data": {
            "text/plain": [
              "2768"
            ]
          },
          "metadata": {
            "tags": []
          },
          "execution_count": 35
        }
      ]
    },
    {
      "cell_type": "markdown",
      "metadata": {
        "id": "XGv9z_mstbLt"
      },
      "source": [
        "## 2.Cuántas viviendas distintas encontramos en el dataset? ¿Se repite alguna? Tiene sentido que haya duplicadas? ¿Qué podemos hacer con las duplicadas?"
      ]
    },
    {
      "cell_type": "code",
      "metadata": {
        "colab": {
          "base_uri": "https://localhost:8080/"
        },
        "id": "HrRUC392qlxg",
        "outputId": "12f9764a-aae7-4674-d621-f6cacd90a2e8"
      },
      "source": [
        "#Relizamos un distinct de la primera columna para ver cuántas viviendas distintas existen\r\n",
        "raw_data_final_filtrado.map(lambda x : x[0]).distinct().count()"
      ],
      "execution_count": 36,
      "outputs": [
        {
          "output_type": "execute_result",
          "data": {
            "text/plain": [
              "2762"
            ]
          },
          "metadata": {
            "tags": []
          },
          "execution_count": 36
        }
      ]
    },
    {
      "cell_type": "code",
      "metadata": {
        "colab": {
          "base_uri": "https://localhost:8080/"
        },
        "id": "h2xUBZWpqluy",
        "outputId": "bf9fb950-fcba-4707-dc9a-4a5121fe19f7"
      },
      "source": [
        "#Realizamos el conteo de la columna de vivienda\r\n",
        "raw_data_final_filtrado.map(lambda x : x[0]).count()"
      ],
      "execution_count": 37,
      "outputs": [
        {
          "output_type": "execute_result",
          "data": {
            "text/plain": [
              "2768"
            ]
          },
          "metadata": {
            "tags": []
          },
          "execution_count": 37
        }
      ]
    },
    {
      "cell_type": "markdown",
      "metadata": {
        "id": "qtQ3Uc3QLi4h"
      },
      "source": [
        "### Quitar Duplicados\r\n",
        "\r\n",
        "Comprobamos que hay 6 viviendas repetidas, por lo que procederemos a eliminarlas"
      ]
    },
    {
      "cell_type": "code",
      "metadata": {
        "id": "U_GA0bIP4wfk"
      },
      "source": [
        "def duplicados(x):\r\n",
        "    return \"{0}\".format(x[0])"
      ],
      "execution_count": 38,
      "outputs": []
    },
    {
      "cell_type": "code",
      "metadata": {
        "id": "2d_zdGn6LT9Y"
      },
      "source": [
        "m = raw_data_final_filtrado.map(lambda x: (duplicados(x),x))\r\n",
        "m = m.reduceByKey(lambda x,y: (x))\r\n",
        "\r\n",
        "raw_data_final_filtrado = m = m.map(lambda x: x[1])"
      ],
      "execution_count": 39,
      "outputs": []
    },
    {
      "cell_type": "code",
      "metadata": {
        "colab": {
          "base_uri": "https://localhost:8080/"
        },
        "id": "hq3pJIC04wcr",
        "outputId": "9e2a09db-9e2d-4d30-d088-be4170926f45"
      },
      "source": [
        "raw_data_final_filtrado.count()"
      ],
      "execution_count": 40,
      "outputs": [
        {
          "output_type": "execute_result",
          "data": {
            "text/plain": [
              "2762"
            ]
          },
          "metadata": {
            "tags": []
          },
          "execution_count": 40
        }
      ]
    },
    {
      "cell_type": "markdown",
      "metadata": {
        "id": "YxFo2bwPv9zb"
      },
      "source": [
        "## 3. ¿Podrías decirme el total de inmuebles y el precio medio (Sale Price) de cada zona (MS Zoning)?"
      ]
    },
    {
      "cell_type": "markdown",
      "metadata": {
        "id": "7fTf_l_UL23_"
      },
      "source": [
        "Hallar la media y contar el número de observaciones por zona"
      ]
    },
    {
      "cell_type": "code",
      "metadata": {
        "colab": {
          "base_uri": "https://localhost:8080/"
        },
        "id": "_XyzLPtQMvAu",
        "outputId": "1ec81083-afd9-42c8-eaf6-0e08d71df602"
      },
      "source": [
        "#Seleccionamos las collumnas de Zona y Sale Price\r\n",
        "rdd_2 = raw_data_final_filtrado.map(lambda x: (x[1], float(x[28])))\r\n",
        "rdd_2.take(5)"
      ],
      "execution_count": 41,
      "outputs": [
        {
          "output_type": "execute_result",
          "data": {
            "text/plain": [
              "[('RL', 215000.0),\n",
              " ('RL', 244000.0),\n",
              " ('RL', 191500.0),\n",
              " ('RL', 236500.0),\n",
              " ('RL', 189000.0)]"
            ]
          },
          "metadata": {
            "tags": []
          },
          "execution_count": 41
        }
      ]
    },
    {
      "cell_type": "code",
      "metadata": {
        "colab": {
          "base_uri": "https://localhost:8080/"
        },
        "id": "1arF7O5sLv73",
        "outputId": "ae1137a1-e90c-444d-a68e-24f0f8aa8b2a"
      },
      "source": [
        "#Realizamos un conteo de cada uno de los tres tipos\r\n",
        "conteo_rdd = rdd_2.map(lambda x: (x[0],1)).reduceByKey(lambda a,b: a + b)\r\n",
        "conteo_rdd.collect()"
      ],
      "execution_count": 42,
      "outputs": [
        {
          "output_type": "execute_result",
          "data": {
            "text/plain": [
              "[('RL', 2273), ('RH', 27), ('RM', 462)]"
            ]
          },
          "metadata": {
            "tags": []
          },
          "execution_count": 42
        }
      ]
    },
    {
      "cell_type": "code",
      "metadata": {
        "colab": {
          "base_uri": "https://localhost:8080/"
        },
        "id": "FwbFHMszMap4",
        "outputId": "ed7ccdd7-9663-4fd2-8e4a-6d92d5dd5f1f"
      },
      "source": [
        "#Realizamos la suma de los tres valores\r\n",
        "suma_rdd = rdd_2.reduceByKey(lambda a, b: a + b)\r\n",
        "suma_rdd.collect()"
      ],
      "execution_count": 43,
      "outputs": [
        {
          "output_type": "execute_result",
          "data": {
            "text/plain": [
              "[('RL', 434786831.0), ('RH', 3683334.0), ('RM', 58573004.0)]"
            ]
          },
          "metadata": {
            "tags": []
          },
          "execution_count": 43
        }
      ]
    },
    {
      "cell_type": "code",
      "metadata": {
        "colab": {
          "base_uri": "https://localhost:8080/"
        },
        "id": "-7m_ms83Lv5R",
        "outputId": "261c9724-46e2-4381-8199-89bc34fa81e8"
      },
      "source": [
        "#Realizamos la media de cada grupo por medio de dividir la suma entre el conteo\r\n",
        "media_rdd = suma_rdd.join(conteo_rdd).map(lambda x:(x[0],(x[1][0]/x[1][1])))\r\n",
        "media_rdd.collect()"
      ],
      "execution_count": 44,
      "outputs": [
        {
          "output_type": "execute_result",
          "data": {
            "text/plain": [
              "[('RL', 191283.25164980203),\n",
              " ('RH', 136419.77777777778),\n",
              " ('RM', 126781.39393939394)]"
            ]
          },
          "metadata": {
            "tags": []
          },
          "execution_count": 44
        }
      ]
    },
    {
      "cell_type": "markdown",
      "metadata": {
        "id": "n0wYOeMKUalT"
      },
      "source": [
        "RH residencial alta densidad <- 27 viviendas y 136.419 de media\r\n",
        "\r\n",
        "RL residencial baja densidad <- 2273 viviendas y 191.283 de media\r\n",
        "\r\n",
        "RM residencial media densidad <- 462 viviendas y 126.781 de media"
      ]
    },
    {
      "cell_type": "markdown",
      "metadata": {
        "id": "W0_b5t_gOybJ"
      },
      "source": [
        "## 4. Media de Total Bsmt SF por cada década de construcción calculada a partir de Year Built. \r\n",
        "## ¿Cuál es la decada de construcción con viviendas mejor acondicionadas para el frío (Heating QC)?"
      ]
    },
    {
      "cell_type": "markdown",
      "metadata": {
        "id": "1fmmVPoJU3r9"
      },
      "source": [
        "Media de Total BsmT sf.\r\n",
        "Lo primero que hacemos es seleccionar las variables que necesitamos.\r\n",
        "\r\n",
        "Generamos una función que nos separe por décadas (al haber varios siglos, seleccionamos los tres primeros dígitos y le añadimos '0s'.\r\n",
        "\r\n",
        "Al igual que en ejercicio anterior, realizamos la suma y el conteo y obtenemos la media de cada una de las décadas."
      ]
    },
    {
      "cell_type": "code",
      "metadata": {
        "id": "7i1B2PJGQwQ9"
      },
      "source": [
        "import statistics as stats "
      ],
      "execution_count": 45,
      "outputs": []
    },
    {
      "cell_type": "code",
      "metadata": {
        "id": "POxV6H9oP2OX"
      },
      "source": [
        "#Columna 7, Year Built\r\n",
        "#Columna 12, Total Bsmt SF\r\n",
        "#Columna 13, Heating QC\r\n",
        "decadas_1 = raw_data_final_filtrado.map(lambda x : [x[i] for i in [7]])\r\n",
        "decadas_2 = raw_data_final_filtrado.map(lambda x : (x[7], float(x[12])))\r\n",
        "decadas_3 = raw_data_final_filtrado.map(lambda x : (x[7], x[13]))"
      ],
      "execution_count": 46,
      "outputs": []
    },
    {
      "cell_type": "code",
      "metadata": {
        "id": "y3MlSHbrkyon"
      },
      "source": [
        "#Función para convertir los años a décadas\r\n",
        "def cambio_decadas(x):\r\n",
        "  return x[0:3] + \"0s\""
      ],
      "execution_count": 47,
      "outputs": []
    },
    {
      "cell_type": "code",
      "metadata": {
        "colab": {
          "base_uri": "https://localhost:8080/",
          "height": 35
        },
        "id": "1Ms3Oo3Ekylj",
        "outputId": "ce862f41-a760-4da3-9e4a-3217fa4b8a42"
      },
      "source": [
        "#Realizamos la comprobación\r\n",
        "cambio_decadas('1827')"
      ],
      "execution_count": 48,
      "outputs": [
        {
          "output_type": "execute_result",
          "data": {
            "application/vnd.google.colaboratory.intrinsic+json": {
              "type": "string"
            },
            "text/plain": [
              "'1820s'"
            ]
          },
          "metadata": {
            "tags": []
          },
          "execution_count": 48
        }
      ]
    },
    {
      "cell_type": "markdown",
      "metadata": {
        "id": "-i-E2MTUzLn1"
      },
      "source": [
        "Media de Total Bsmt SF por década"
      ]
    },
    {
      "cell_type": "code",
      "metadata": {
        "id": "ttwbBD7omYrN"
      },
      "source": [
        "decadas_cambios_suma = decadas_2.map(lambda x : (cambio_decadas(x[0]), x[1])).reduceByKey(lambda a, b: a + b)"
      ],
      "execution_count": 49,
      "outputs": []
    },
    {
      "cell_type": "code",
      "metadata": {
        "id": "hDTKCiVHv61l"
      },
      "source": [
        "decadas_cambios_conteo = decadas_2.map(lambda x : (cambio_decadas(x[0]),1)).reduceByKey(lambda a, b: a + b)"
      ],
      "execution_count": 50,
      "outputs": []
    },
    {
      "cell_type": "code",
      "metadata": {
        "colab": {
          "base_uri": "https://localhost:8080/"
        },
        "id": "hlVj-cY5wjkW",
        "outputId": "3e41d46c-8933-4fe8-cd86-618a27de4c84"
      },
      "source": [
        "decadas_cambios_media = decadas_cambios_suma.join(decadas_cambios_conteo).map(lambda x:(x[0],(x[1][0]/x[1][1]))).collect()\r\n",
        "decadas_cambios_media.sort()\r\n",
        "decadas_cambios_media"
      ],
      "execution_count": 51,
      "outputs": [
        {
          "output_type": "execute_result",
          "data": {
            "text/plain": [
              "[('1870s', 761.0),\n",
              " ('1880s', 836.0),\n",
              " ('1890s', 885.5833333333334),\n",
              " ('1900s', 720.1388888888889),\n",
              " ('1910s', 788.3009708737864),\n",
              " ('1920s', 833.9368421052632),\n",
              " ('1930s', 769.9158878504672),\n",
              " ('1940s', 706.9261744966443),\n",
              " ('1950s', 968.2955223880597),\n",
              " ('1960s', 1082.672268907563),\n",
              " ('1970s', 952.7225274725274),\n",
              " ('1980s', 1086.0),\n",
              " ('1990s', 1138.8083067092653),\n",
              " ('2000s', 1348.469079939668),\n",
              " ('2010s', 1539.0)]"
            ]
          },
          "metadata": {
            "tags": []
          },
          "execution_count": 51
        }
      ]
    },
    {
      "cell_type": "markdown",
      "metadata": {
        "id": "vuf8d-qGVZ43"
      },
      "source": [
        "Podemos observar que el valor más alto superficie del sótano en pies cuadrádos es en 2010 y la que menos en 1870, se puede observar como existe una tendencia clara a ir aumentando el valor por cada década que transcurre."
      ]
    },
    {
      "cell_type": "markdown",
      "metadata": {
        "id": "Ms2Yl3hzzRfB"
      },
      "source": [
        "Década con mejor acondicionamiento para el frio, Heating QC"
      ]
    },
    {
      "cell_type": "code",
      "metadata": {
        "id": "SPoEEp-i4kUu"
      },
      "source": [
        "acondicionamiento_decadas = decadas_3.map(lambda x : (cambio_decadas(x[0]), x[1]))"
      ],
      "execution_count": 52,
      "outputs": []
    },
    {
      "cell_type": "code",
      "metadata": {
        "colab": {
          "base_uri": "https://localhost:8080/"
        },
        "id": "cUkizo-14kRf",
        "outputId": "57e92ee1-7a5d-488e-84df-b5215cdcf7d4"
      },
      "source": [
        "acondicionamiento_decadas.take(5)"
      ],
      "execution_count": 53,
      "outputs": [
        {
          "output_type": "execute_result",
          "data": {
            "text/plain": [
              "[('1960s', 'Fa'),\n",
              " ('1960s', 'Ex'),\n",
              " ('1990s', 'Ex'),\n",
              " ('1990s', 'Ex'),\n",
              " ('1990s', 'Gd')]"
            ]
          },
          "metadata": {
            "tags": []
          },
          "execution_count": 53
        }
      ]
    },
    {
      "cell_type": "code",
      "metadata": {
        "colab": {
          "base_uri": "https://localhost:8080/"
        },
        "id": "WDDZBU4w2MXk",
        "outputId": "b4b705a9-77c4-4fc1-99c4-478ccc2fa4dd"
      },
      "source": [
        "conteo_acondicionamiento_frio = acondicionamiento_decadas.map(lambda x: (x[1],1)).reduceByKey(lambda a,b: a + b)\r\n",
        "conteo_acondicionamiento_frio.collect()"
      ],
      "execution_count": 54,
      "outputs": [
        {
          "output_type": "execute_result",
          "data": {
            "text/plain": [
              "[('Fa', 88), ('Po', 2), ('Ex', 1358), ('Gd', 464), ('TA', 850)]"
            ]
          },
          "metadata": {
            "tags": []
          },
          "execution_count": 54
        }
      ]
    },
    {
      "cell_type": "markdown",
      "metadata": {
        "id": "wzBoPTKcV-wk"
      },
      "source": [
        "Podemos observar cómo la mayoría de los pisos presentan un acondicionamiento excelente contra el frio (con 1358 observaciones), seguido con Media (TA) y Bueno (464)"
      ]
    },
    {
      "cell_type": "code",
      "metadata": {
        "colab": {
          "base_uri": "https://localhost:8080/"
        },
        "id": "AgehxwUh5Gf5",
        "outputId": "5500cd77-c7ab-4e1b-dd12-387adda2fb7a"
      },
      "source": [
        "acondicionamiento_frio = sorted(acondicionamiento_decadas.groupByKey().mapValues(len).collect())\r\n",
        "acondicionamiento_frio\r\n",
        "#Realizamos el conteo de las viviendas por década"
      ],
      "execution_count": 55,
      "outputs": [
        {
          "output_type": "execute_result",
          "data": {
            "text/plain": [
              "[('1870s', 3),\n",
              " ('1880s', 8),\n",
              " ('1890s', 12),\n",
              " ('1900s', 36),\n",
              " ('1910s', 103),\n",
              " ('1920s', 190),\n",
              " ('1930s', 107),\n",
              " ('1940s', 149),\n",
              " ('1950s', 335),\n",
              " ('1960s', 357),\n",
              " ('1970s', 364),\n",
              " ('1980s', 120),\n",
              " ('1990s', 313),\n",
              " ('2000s', 663),\n",
              " ('2010s', 2)]"
            ]
          },
          "metadata": {
            "tags": []
          },
          "execution_count": 55
        }
      ]
    },
    {
      "cell_type": "code",
      "metadata": {
        "colab": {
          "base_uri": "https://localhost:8080/"
        },
        "id": "_m0hkqCql2c2",
        "outputId": "8804534d-55eb-41fe-eef4-dccfab1f02bd"
      },
      "source": [
        "acondicionamiento_frio_group = decadas_3.map(lambda x : (x[0], x[1])).reduceByKey(lambda a, b: a + b).collect()\r\n",
        "acondicionamiento_frio_group"
      ],
      "execution_count": 56,
      "outputs": [
        {
          "output_type": "execute_result",
          "data": {
            "text/plain": [
              "[('1995', 'ExExExExExExGdExExExExExExGdExExGdExExExGdGdExGdExExGdGdExExEx'),\n",
              " ('1990', 'GdExExExGdGdExTAExGdTAExGdGdGdGdExGdGd'),\n",
              " ('2003',\n",
              "  'ExExExExExExExExExExExExExExExExExExExExExExExExExExExExExExExExExExExExExExExExExExExExExExExExExExExExExExExExExExExExExExExExExExExExExExExExExExExExExExEx'),\n",
              " ('1951', 'ExTATATAExTAFaTATAExFaExTAExTATA'),\n",
              " ('1978',\n",
              "  'TATATATAExTATATAGdTATAExTAExTATATATAExExTAFaTAFaTATAGdTATATAGdTATAExExTAExTATATATATA'),\n",
              " ('1977',\n",
              "  'ExTAGdGdExTAExTATATATAFaTAExTATATAExTATATAFaTATATATAExFaExExTATAGdTAExTATATAExTATATATATATATAExTATATATAExTATATATAEx'),\n",
              " ('1970',\n",
              "  'ExExTATATATATAExExExTAGdTAExExTATATATATATAExTATATATAExTATAExGdTAExTATAFaGdGdTAExTAGd'),\n",
              " ('2004',\n",
              "  'ExExExExExExExExExExExExExExExExExExExExExExExExExExExExExExExExExExExExExExExExExExExExExExExExExExExExExExExExExExExExExExExExExExExExExExExExExExExExExExExExExExExEx'),\n",
              " ('2002',\n",
              "  'ExExExExExExExExExExExExExExExExExExExExExExExExExExExExExExExExExExExExExExExExExExExEx'),\n",
              " ('1994',\n",
              "  'ExGdExExExExExExGdExExGdExExExExExExExGdExExExExExExExExExExExExGdExExExEx'),\n",
              " ('1980', 'TATATATAGdTATATATAExTAGdTATAGdTATATAGdTATAExTATATAExTA'),\n",
              " ('1920',\n",
              "  'TAGdGdExExExTATAExTAExGdGdTAExFaTAGdTAExGdExGdTATAExFaTAGdTAGdGdTAExGdExGdTATATAFaExGdTAExExFaTAExTAGdGd'),\n",
              " ('1993',\n",
              "  'ExExExExExExExExGdExExExExExGdGdExGdExExExGdGdExExExExExExExExGdExExGdExExExExEx'),\n",
              " ('1954',\n",
              "  'TAGdTAGdGdTAExExGdExExTAExExGdExExExExExTAExGdGdExGdExTATATAFaTAExExExTATAGdGdTAExExEx'),\n",
              " ('1957',\n",
              "  'TAGdTAExTAExExTATAGdGdFaExTATATAExTAGdGdTAExTAGdFaTAExTAExExTAGdTAGd'),\n",
              " ('1956',\n",
              "  'ExTATATAExTAExExTAGdExTATATAExGdTAExExExGdExTATAFaGdTAExFaTAExGdGdGdTAExGdExGd'),\n",
              " ('1948', 'TATAExTAExTAExTAExTATAExGdFaExTAExExExTAGdTAGdExGdExEx'),\n",
              " ('1927', 'GdTAFaTAGdFaTATATA'),\n",
              " ('1938', 'GdExGdTAGdTATAGdTATATAExEx'),\n",
              " ('1921', 'GdFaExExTAExExExGdTAGd'),\n",
              " ('1940',\n",
              "  'ExExTAExExTAGdExExTAGdExFaTAGdExExTAExGdGdFaExTAExGdTAExGdGdExExGdExExTA'),\n",
              " ('1964',\n",
              "  'ExTATAExTAGdFaTATAGdGdTAFaTATATATAGdExTAExExTATAGdTATATATAExTATATA'),\n",
              " ('1941', 'FaExTAExGdTATAExGdTAExExTAExExExTAExPoTAExTAFa'),\n",
              " ('1939', 'TAExTAExExExExExExExExGdTAFaTATATAExExGd'),\n",
              " ('1962',\n",
              "  'TATAGdTATATATATAGdTAExTATAGdGdTATAGdExTAGdTATATAGdTAExGdTAExTATAGdTAEx'),\n",
              " ('1991', 'GdGdGdExTAGdExTAGdGdTAEx'),\n",
              " ('1979', 'TATATATATAExTATATATATATATATATATATATATATATA'),\n",
              " ('1981', 'TATATAExExGdTATAGdTA'),\n",
              " ('2007',\n",
              "  'ExExExExExExExExExExExExExExExExExExExExExExExExExExExExExExExExExExExExExExExExExExExExExExExExExExExExExExExExExExExExExExExExExExExExExExExExExExExExExExExExExExExExExExExExExExExEx'),\n",
              " ('1969', 'TATATAExExTAGdExTATATAGdTATAExExGdGdTAGdTAExTAExTATAGdFa'),\n",
              " ('1925',\n",
              "  'ExExGdTATATAExGdExGdTAFaExExTAExFaExTAGdTAGdTAGdTAFaTATAGdTATATATA'),\n",
              " ('1949', 'GdFaGdExFaTAGdExTAGdTATATAExExTAFa'),\n",
              " ('1947', 'TAExTAGdGdExExFaExExGd'),\n",
              " ('1880', 'TAExExTATA'),\n",
              " ('1890', 'TAGdGdExExTAGd'),\n",
              " ('1936', 'FaExGdGdGdTATAExGdGdEx'),\n",
              " ('1983', 'GdExTAGdTATAExTA'),\n",
              " ('1928', 'TAExGdTAGdGdTAExEx'),\n",
              " ('1937', 'TATATAExTATAExExTA'),\n",
              " ('1918', 'ExExTAGdExExExGdGd'),\n",
              " ('1982', 'GdTATATAExExTA'),\n",
              " ('1901', 'TATA'),\n",
              " ('1934', 'TAExTAFaTA'),\n",
              " ('2010', 'ExEx'),\n",
              " ('1872', 'Fa'),\n",
              " ('1911', 'TA'),\n",
              " ('1879', 'TA'),\n",
              " ('1913', 'TA'),\n",
              " ('1960',\n",
              "  'FaTAExGdGdExExTATATAExGdGdTAExGdTAExTAExTATAExTATATAExGdTAGdTATATAExGdTATA'),\n",
              " ('1968',\n",
              "  'ExExExExTAExGdTAGdExGdTAGdGdExExGdExTATATATAGdTAExTAGdTAExTAExFaExTATAFaGdTAGdExGdGdGdGdGd'),\n",
              " ('1992', 'ExExExExExExGdGdTAGdGdExExExExExTAGdExTAExGdGdExExExEx'),\n",
              " ('1999',\n",
              "  'GdExExExExExExExExExExExExGdExExExExExExExExExExExExExExExExExExExExEx'),\n",
              " ('1988', 'GdTAExGdExGdGdTAExGdTAExExGdGd'),\n",
              " ('1974', 'TAExTATATATATATATAFaGdExTATATAGdTATATATATATAGd'),\n",
              " ('1975', 'TATAFaTAFaTATATATATAExTATAExTAGdTAGdTATATATAGdTATA'),\n",
              " ('2009', 'ExExExExExExExExGdExExExExExEx'),\n",
              " ('2006',\n",
              "  'ExExExExGdExExExGdExExExExExExExExExExExExExExExExExExExGdExExGdGdExExExExExExExExGdExExExExExExExExExExExExGdExExExExExExExExExExGdGdExExExExExGdExExExExExExExExExGdExExExExExExExExGdExExExExExExExExGdExExExGdExExExExGdExExGdExEx'),\n",
              " ('1965',\n",
              "  'ExExGdExTATAExTATATAGdTAExGdExTAExTAGdGdExExTATAGdTAExExTATATATATAEx'),\n",
              " ('1963',\n",
              "  'FaTAExFaTATATATATAFaTATAGdGdGdExExTATAGdExTAGdTAExTAExTAGdTAGdTATATATA'),\n",
              " ('1967',\n",
              "  'GdExExTATATAGdTATATATAExExExGdGdTATATAGdGdGdTATATATATATAFaTATATAGdExExTATATATATATA'),\n",
              " ('1972',\n",
              "  'TATAExTAGdTATATATATAExTAGdGdTAGdExGdTAExExTATATAGdExTAGdGdTAGdTATAGdTATAGdGdTAEx'),\n",
              " ('1966',\n",
              "  'GdExExGdTAExTAGdExTAGdTAExGdTATAExTATAExTATAGdTAExExGdTATAExExTAGdExGd'),\n",
              " ('1952', 'GdTAFaGdTAExExFaGdFaTAExTATATAGd'),\n",
              " ('1958',\n",
              "  'GdTAGdExGdFaTATAGdExGdFaGdTATATAGdTATATATATAExTATAGdGdExExExTATAGdTAExFaExExTATATATAGdTAExExExEx'),\n",
              " ('1959',\n",
              "  'TATAFaFaExExTAExExTATATAExTAGdTAGdExExTATAFaGdExGdTAExTATAExGdGdTATATAGdExGdExTAExGdEx'),\n",
              " ('1953', 'TATATAExTAGdTAGdTAExExTATATAGdExTAGdGdExTATATATA'),\n",
              " ('1915', 'GdTAFaExGdGdExGdExTAExTATATAGdExExGdExExExTAGd'),\n",
              " ('1900', 'TAGdTAGdGdTAExExGdExTAExTAExGdFaGdTATAExTAExGdExExGd'),\n",
              " ('1910',\n",
              "  'GdGdExGdTAExTATAGdExExTATAFaGdExGdExGdGdFaGdGdFaTAExTAFaGdExTAGdExTAExGdGdTATA'),\n",
              " ('1885', 'GdGd'),\n",
              " ('1950',\n",
              "  'ExExGdTAExFaGdGdTAGdTAExTAGdExTAGdGdTAExGdTAGdGdTATAExGdTAExExTAFaTAGdTATAFa'),\n",
              " ('1912', 'ExTAExTAEx'),\n",
              " ('1930', 'FaTAExTAGdTAGdExExTAExExGdTATAExTATAExGdExTAExExEx'),\n",
              " ('1875', 'Gd'),\n",
              " ('1996',\n",
              "  'ExGdGdExExGdExExExExExExExExExGdExExExExExExGdExGdExExGdExExExExExEx'),\n",
              " ('1946', 'ExGdExExExTATAFaTATAExFaTATATA'),\n",
              " ('1987', 'ExTATAExExTAGdGd'),\n",
              " ('1971',\n",
              "  'GdTAExFaTATATATATATATAExTATATAGdExExTATATATATAExGdGdTATAExTATAGdTATATAExGdTATA'),\n",
              " ('1997',\n",
              "  'ExExExExExGdExExExExExGdGdExExExGdExGdGdExExExExExExExGdExExGdExEx'),\n",
              " ('1998',\n",
              "  'ExGdGdExExExExExExGdExExExExExGdExGdExExExGdExGdExExExGdExExExGdGdExExExExExExExGdExExExEx'),\n",
              " ('2001', 'ExExExExExExExExExExExExExExExExExExExExExExExExExExExExExEx'),\n",
              " ('1945', 'TATATATATAGdTATAGdTAGdTAExTA'),\n",
              " ('1976',\n",
              "  'TAExTATAExTATATATATATATAExTATATATAExTATATATATATATAExExTATATAExExExTATATATATATAExFaExTATATATAExTATATAGdGdTATA'),\n",
              " ('1924', 'FaExGdGdExFaTAGdTATAGdExFaGdTAPo'),\n",
              " ('1989', 'GdGdExGdGdExGdEx'),\n",
              " ('2008',\n",
              "  'ExExExExExExExExExExExExExExGdExExExExExExExExExExExExExExExExExExExExExExExExExEx'),\n",
              " ('1973', 'ExExTATAGdExTAExTAFaTAGdTATATAGdTATATAGdTA'),\n",
              " ('1984', 'TATATAGdExGdTAExTATATAGdTATATATAExTAEx'),\n",
              " ('2000',\n",
              "  'ExExExExExExExExExExExExExExExExExExExExExExExExExExExExExExExExExExExEx'),\n",
              " ('2005',\n",
              "  'ExExExExExExExExExExExExExExExExExExExExExExExExExExExExExExExExExGdGdExExExExExExExExGdExExExExExExExExExExExExExExExExExExExExExExExExExExExExExExExExExExExExExExExGdExExExExExExExExExExExExExExExExExExExExExExExExExExExExExExExExExExExExExExGdGdGdExEx'),\n",
              " ('1961',\n",
              "  'ExTAExTATATAExTAGdGdGdExTATATATATATAExTAExExGdGdTAGdExTATAExTATATATA'),\n",
              " ('1916', 'ExFaTAGdGdExFaExEx'),\n",
              " ('1935', 'GdExGdTATAGdGdExExGdGdTA'),\n",
              " ('1892', 'TAEx'),\n",
              " ('1923', 'TATATAGdTAExTATATAExTATATAExFaTATA'),\n",
              " ('1898', 'TA'),\n",
              " ('1882', 'Gd'),\n",
              " ('1931', 'TAGdTAExExTAEx'),\n",
              " ('1955',\n",
              "  'ExExGdTAGdTATATAExTAGdTATAGdTAExTATAExTAExGdGdTATATATATATATATATATAGd'),\n",
              " ('1922', 'ExExFaTATATATAExExTAGdTAGdFaExFa'),\n",
              " ('1986', 'GdGdExGdTAGdTAExExGdGd'),\n",
              " ('1905', 'ExExGd'),\n",
              " ('1893', 'Gd'),\n",
              " ('1908', 'TAGd'),\n",
              " ('1926', 'ExTAGdTAGdExTAGdExTAExTAGdTAFaTATAExEx'),\n",
              " ('1895', 'Ex'),\n",
              " ('1929', 'ExTATAExGdFaFaEx'),\n",
              " ('1942', 'TAExTATAFaEx'),\n",
              " ('1932', 'TAExExTATA'),\n",
              " ('1985', 'GdTATAGdExTATA'),\n",
              " ('1919', 'ExTAExExTA'),\n",
              " ('1914', 'GdTAExTAExTAExFa'),\n",
              " ('1917', 'GdExFa'),\n",
              " ('1902', 'TA'),\n",
              " ('1904', 'Gd'),\n",
              " ('1906', 'Ex')]"
            ]
          },
          "metadata": {
            "tags": []
          },
          "execution_count": 56
        }
      ]
    },
    {
      "cell_type": "markdown",
      "metadata": {
        "id": "dcdh8V6KWi_y"
      },
      "source": [
        "Aunque no se ha llegado a conseguir por medio de código la agrupación deseada, es cierto que se puede observar de los datos recogidos, que 2005 es el año donde más casa cuentan con un acondicionamiento Excelente, seguido por 2006 y luego por 2007.\r\n",
        "\r\n",
        "He intentado realizados agrupación por dos elementos pero no he sido capaz."
      ]
    },
    {
      "cell_type": "markdown",
      "metadata": {
        "id": "8iQnE1zFg8wp"
      },
      "source": [
        "## 5.¿Cuáles son las 10 viviendas que se vendieron por un precio más elevado por metro cuadrado en el año 2009?"
      ]
    },
    {
      "cell_type": "markdown",
      "metadata": {
        "id": "Oo3Cb68_W_fm"
      },
      "source": [
        "Seleccionamos las columnas necesarias:\r\n",
        "\r\n",
        "ID Vivienda = 0\r\n",
        "\r\n",
        "Año de Venta = 27\r\n",
        "\r\n",
        "Precio/m^2 = columna 28(Precio Venta) / columna 3(metros cuadrado) * tasa de pies a metros cuadrados (0.09203)\r\n",
        "\r\n",
        "Procedimiento:\r\n",
        "\r\n",
        "Realizamos un filtro para el año 2009\r\n",
        "\r\n",
        "Ordenamos de manera descendente y obtenemos los 10 primero valores."
      ]
    },
    {
      "cell_type": "code",
      "metadata": {
        "id": "FjWbkcCGCb5m"
      },
      "source": [
        "viviendas_top = raw_data_final_filtrado.map(lambda x : (x[0], x[27], float(x[28])/(float(x[3])*0.092903)))"
      ],
      "execution_count": 57,
      "outputs": []
    },
    {
      "cell_type": "code",
      "metadata": {
        "id": "KOeLFXpeg7nf"
      },
      "source": [
        "viviendas_top = viviendas_top.filter(lambda x: x[1] == '2009')"
      ],
      "execution_count": 58,
      "outputs": []
    },
    {
      "cell_type": "code",
      "metadata": {
        "colab": {
          "base_uri": "https://localhost:8080/"
        },
        "id": "MBNPe_Vxg7k3",
        "outputId": "f212a8dd-5591-4d71-b7dc-11c19b183bb9"
      },
      "source": [
        "viviendas_top = viviendas_top.sortBy(lambda x: x[2], ascending = False)\r\n",
        "viviendas_top.take(10)"
      ],
      "execution_count": 59,
      "outputs": [
        {
          "output_type": "execute_result",
          "data": {
            "text/plain": [
              "[('936', '2009', 1026.7118971897073),\n",
              " ('934', '2009', 991.0325013521444),\n",
              " ('464', '2009', 821.0570122815511),\n",
              " ('935', '2009', 807.9613655043873),\n",
              " ('408', '2009', 765.647528938273),\n",
              " ('407', '2009', 756.0368904997173),\n",
              " ('405', '2009', 717.5943367454944),\n",
              " ('933', '2009', 714.281725843034),\n",
              " ('403', '2009', 711.1872444531239),\n",
              " ('411', '2009', 701.0707829388548)]"
            ]
          },
          "metadata": {
            "tags": []
          },
          "execution_count": 59
        }
      ]
    },
    {
      "cell_type": "markdown",
      "metadata": {
        "id": "5vT6-lvuXjb7"
      },
      "source": [
        "Podemos ver que el precio más alto por metro cuadrado corresponde a la observación 936 con un valor total de 1026,71$ el m^2."
      ]
    },
    {
      "cell_type": "markdown",
      "metadata": {
        "id": "amkIlZjO9YJH"
      },
      "source": [
        "## 6.Media anual por zonas del precio de venta y metros cuadrados."
      ]
    },
    {
      "cell_type": "markdown",
      "metadata": {
        "id": "n0TPWQxYXxwl"
      },
      "source": [
        "Hacemos una selección de las columans que necesitemos:\r\n",
        "\r\n",
        "Zona a la que pertenecen = 1\r\n",
        "\r\n",
        "Año = 7\r\n",
        "\r\n",
        "Precio de Venta = 28\r\n",
        "\r\n",
        "Metros cuadrados = 3\r\n",
        "\r\n",
        "Procedimiento:\r\n",
        "\r\n",
        "Realizamos el cambio de pies a metros\r\n",
        "\r\n",
        "Creamos tres rdd por medio de un filter para filtrar las observaciones por zonas (RL, RH y RM)\r\n",
        "\r\n",
        "Realizamos la media anual tanto para el precio como los metros cuadrados para cada una de las tres zonas."
      ]
    },
    {
      "cell_type": "code",
      "metadata": {
        "id": "DFRfZx2cg7ZG"
      },
      "source": [
        "seleccion_6 = raw_data_final_filtrado.map(lambda x: (x[1], x[7], float(x[28]), (float(x[3])*0.092903)))"
      ],
      "execution_count": 60,
      "outputs": []
    },
    {
      "cell_type": "code",
      "metadata": {
        "colab": {
          "base_uri": "https://localhost:8080/"
        },
        "id": "NR38uTyFg7VP",
        "outputId": "4ac16a67-7f2d-47af-a4f8-8e77d16e43a2"
      },
      "source": [
        "seleccion_6.take(5)"
      ],
      "execution_count": 61,
      "outputs": [
        {
          "output_type": "execute_result",
          "data": {
            "text/plain": [
              "[('RL', '1960', 215000.0, 2951.52831),\n",
              " ('RL', '1968', 244000.0, 1036.79748),\n",
              " ('RL', '1992', 191500.0, 464.979515),\n",
              " ('RL', '1995', 236500.0, 500.654267),\n",
              " ('RL', '1999', 189000.0, 696.7725)]"
            ]
          },
          "metadata": {
            "tags": []
          },
          "execution_count": 61
        }
      ]
    },
    {
      "cell_type": "code",
      "metadata": {
        "id": "Rahi-WmqJwD2"
      },
      "source": [
        "media_zona_RL = seleccion_6.filter(lambda x: 'RL' in x[0])\r\n",
        "media_zona_RH = seleccion_6.filter(lambda x: 'RH' in x[0])\r\n",
        "media_zona_RM = seleccion_6.filter(lambda x: 'RM' in x[0])"
      ],
      "execution_count": 62,
      "outputs": []
    },
    {
      "cell_type": "markdown",
      "metadata": {
        "id": "Dsqi7zSTf0ud"
      },
      "source": [
        "### ZONA RL"
      ]
    },
    {
      "cell_type": "code",
      "metadata": {
        "id": "gUSseIoPJv6N"
      },
      "source": [
        "#PRECIO\r\n",
        "zona_RL = media_zona_RL.map(lambda x: (x[1], x[2]))\r\n",
        "suma_RL = zona_RL.map(lambda x: (x[0], x[1])).reduceByKey(lambda a,b: a+b)\r\n",
        "conteo_RL = zona_RL.map(lambda x: (x[0], 1)).reduceByKey(lambda a,b : a+b)\r\n",
        "media_precio_RL = suma_RL.join(conteo_RL).map(lambda x:(x[0],(x[1][0]/x[1][1])))"
      ],
      "execution_count": 63,
      "outputs": []
    },
    {
      "cell_type": "code",
      "metadata": {
        "colab": {
          "base_uri": "https://localhost:8080/"
        },
        "id": "PHKYAmaTNFuQ",
        "outputId": "37f62e15-953f-44eb-f61a-33846c1e4e63"
      },
      "source": [
        "media_precio_RL.take(10)"
      ],
      "execution_count": 64,
      "outputs": [
        {
          "output_type": "execute_result",
          "data": {
            "text/plain": [
              "[('1995', 247500.0),\n",
              " ('1990', 215951.57894736843),\n",
              " ('2003', 247085.01408450704),\n",
              " ('1951', 133006.25),\n",
              " ('1978', 173014.63414634147),\n",
              " ('1977', 170496.22641509434),\n",
              " ('1970', 156413.63636363635),\n",
              " ('2004', 231581.484375),\n",
              " ('2002', 228877.67441860464),\n",
              " ('1994', 229898.67567567568)]"
            ]
          },
          "metadata": {
            "tags": []
          },
          "execution_count": 64
        }
      ]
    },
    {
      "cell_type": "code",
      "metadata": {
        "id": "uw64JBuFNFrb"
      },
      "source": [
        "#Precio / Metro Cuadrado\r\n",
        "zona_RL = media_zona_RL.map(lambda x: (x[1], x[3]))\r\n",
        "suma_RL = zona_RL.map(lambda x: (x[0], x[1])).reduceByKey(lambda a,b: a+b)\r\n",
        "conteo_RL = zona_RL.map(lambda x: (x[0], 1)).reduceByKey(lambda a,b : a+b)\r\n",
        "media_superficie_RL = suma_RL.join(conteo_RL).map(lambda x:(x[0],(x[1][0]/x[1][1])))"
      ],
      "execution_count": 65,
      "outputs": []
    },
    {
      "cell_type": "code",
      "metadata": {
        "colab": {
          "base_uri": "https://localhost:8080/"
        },
        "id": "G00kfMkvNFi_",
        "outputId": "9a244dbb-c602-40a3-dbba-4f9130bea058"
      },
      "source": [
        "media_superficie_RL.take(10)"
      ],
      "execution_count": 66,
      "outputs": [
        {
          "output_type": "execute_result",
          "data": {
            "text/plain": [
              "[('1995', 1071.971754548387),\n",
              " ('1990', 1017.370973736842),\n",
              " ('2003', 950.073183746479),\n",
              " ('1951', 1027.3678255),\n",
              " ('1978', 906.4523050731707),\n",
              " ('1977', 1053.8583271509433),\n",
              " ('1970', 953.5732834545455),\n",
              " ('2004', 1007.78851825),\n",
              " ('2002', 985.8499069069769),\n",
              " ('1994', 1141.0396677837837)]"
            ]
          },
          "metadata": {
            "tags": []
          },
          "execution_count": 66
        }
      ]
    },
    {
      "cell_type": "markdown",
      "metadata": {
        "id": "0Us3-amhgpJo"
      },
      "source": [
        "### ZONA RH"
      ]
    },
    {
      "cell_type": "code",
      "metadata": {
        "id": "DojMnMH6go7H"
      },
      "source": [
        "#PRECIO\r\n",
        "zona_RH = media_zona_RH.map(lambda x: (x[1], x[2]))\r\n",
        "suma_RH = zona_RH.map(lambda x: (x[0], x[1])).reduceByKey(lambda a,b: a+b)\r\n",
        "conteo_RH = zona_RH.map(lambda x: (x[0], 1)).reduceByKey(lambda a,b : a+b)\r\n",
        "media_precio_RH = suma_RH.join(conteo_RH).map(lambda x:(x[0],(x[1][0]/x[1][1])))"
      ],
      "execution_count": 67,
      "outputs": []
    },
    {
      "cell_type": "code",
      "metadata": {
        "colab": {
          "base_uri": "https://localhost:8080/"
        },
        "id": "gqdN2gvwgweA",
        "outputId": "2b7ae498-0fd5-4ad0-b46e-76c0fa5255de"
      },
      "source": [
        "media_precio_RH.take(10)"
      ],
      "execution_count": 68,
      "outputs": [
        {
          "output_type": "execute_result",
          "data": {
            "text/plain": [
              "[('1920', 67500.0),\n",
              " ('1925', 121800.0),\n",
              " ('1949', 145000.0),\n",
              " ('1928', 76000.0),\n",
              " ('1938', 160000.0),\n",
              " ('1911', 130000.0),\n",
              " ('1977', 144000.0),\n",
              " ('2002', 190000.0),\n",
              " ('1993', 137000.0),\n",
              " ('1999', 184000.0)]"
            ]
          },
          "metadata": {
            "tags": []
          },
          "execution_count": 68
        }
      ]
    },
    {
      "cell_type": "code",
      "metadata": {
        "id": "CD5EGMrwgo4c"
      },
      "source": [
        "#Precio / Metro Cuadrado\r\n",
        "zona_RH = media_zona_RH.map(lambda x: (x[1], x[3]))\r\n",
        "suma_RH = zona_RH.map(lambda x: (x[0], x[1])).reduceByKey(lambda a,b: a+b)\r\n",
        "conteo_RH = zona_RH.map(lambda x: (x[0], 1)).reduceByKey(lambda a,b : a+b)\r\n",
        "media_superficie_RH = suma_RH.join(conteo_RH).map(lambda x:(x[0],(x[1][0]/x[1][1])))"
      ],
      "execution_count": 69,
      "outputs": []
    },
    {
      "cell_type": "code",
      "metadata": {
        "colab": {
          "base_uri": "https://localhost:8080/"
        },
        "id": "aKH8WLYkgo1Q",
        "outputId": "d390e059-11cb-4c93-ded5-5da203a2826a"
      },
      "source": [
        "media_superficie_RH.take(10)"
      ],
      "execution_count": 70,
      "outputs": [
        {
          "output_type": "execute_result",
          "data": {
            "text/plain": [
              "[('1920', 910.4494),\n",
              " ('1925', 872.544976),\n",
              " ('1949', 582.50181),\n",
              " ('1928', 836.127),\n",
              " ('1938', 585.2889),\n",
              " ('1911', 791.998075),\n",
              " ('1977', 780.3851999999999),\n",
              " ('2002', 815.038019),\n",
              " ('1993', 335.565636),\n",
              " ('1999', 544.225774)]"
            ]
          },
          "metadata": {
            "tags": []
          },
          "execution_count": 70
        }
      ]
    },
    {
      "cell_type": "markdown",
      "metadata": {
        "id": "S7iN3t4jgoqG"
      },
      "source": [
        "### ZONA RM"
      ]
    },
    {
      "cell_type": "code",
      "metadata": {
        "id": "ZYm2YJEPgoNw"
      },
      "source": [
        "#PRECIO\r\n",
        "zona_RM = media_zona_RM.map(lambda x: (x[1], x[2]))\r\n",
        "suma_RM = zona_RM.map(lambda x: (x[0], x[1])).reduceByKey(lambda a,b: a+b)\r\n",
        "conteo_RM = zona_RM.map(lambda x: (x[0], 1)).reduceByKey(lambda a,b : a+b)\r\n",
        "media_precio_RM = suma_RM.join(conteo_RM).map(lambda x:(x[0],(x[1][0]/x[1][1])))"
      ],
      "execution_count": 71,
      "outputs": []
    },
    {
      "cell_type": "code",
      "metadata": {
        "colab": {
          "base_uri": "https://localhost:8080/"
        },
        "id": "G7PZ2HLbgoKO",
        "outputId": "f06295e3-6c7e-411f-96c4-09d6401427cd"
      },
      "source": [
        "media_precio_RM.take(10)"
      ],
      "execution_count": 72,
      "outputs": [
        {
          "output_type": "execute_result",
          "data": {
            "text/plain": [
              "[('1978', 112000.0),\n",
              " ('1927', 123333.33333333333),\n",
              " ('1957', 136050.0),\n",
              " ('1938', 125466.66666666667),\n",
              " ('1948', 132111.11111111112),\n",
              " ('1921', 100125.0),\n",
              " ('2004', 179546.5),\n",
              " ('1941', 95928.57142857143),\n",
              " ('1970', 90185.0),\n",
              " ('1939', 122292.0)]"
            ]
          },
          "metadata": {
            "tags": []
          },
          "execution_count": 72
        }
      ]
    },
    {
      "cell_type": "code",
      "metadata": {
        "id": "DxRzni7IibCx"
      },
      "source": [
        "#Precio / Metro Cuadrado\r\n",
        "zona_RM = media_zona_RM.map(lambda x: (x[1], x[3]))\r\n",
        "suma_RM = zona_RM.map(lambda x: (x[0], x[1])).reduceByKey(lambda a,b: a+b)\r\n",
        "conteo_RM = zona_RM.map(lambda x: (x[0], 1)).reduceByKey(lambda a,b : a+b)\r\n",
        "media_superficie_RM = suma_RM.join(conteo_RM).map(lambda x:(x[0],(x[1][0]/x[1][1])))"
      ],
      "execution_count": 73,
      "outputs": []
    },
    {
      "cell_type": "code",
      "metadata": {
        "colab": {
          "base_uri": "https://localhost:8080/"
        },
        "id": "7u6TsqHKgoHW",
        "outputId": "66cb0d37-7554-4e25-9956-e02df38b0c47"
      },
      "source": [
        "media_superficie_RM.take(10)"
      ],
      "execution_count": 74,
      "outputs": [
        {
          "output_type": "execute_result",
          "data": {
            "text/plain": [
              "[('1978', 829.62379),\n",
              " ('1927', 668.6383748333333),\n",
              " ('1957', 656.638404),\n",
              " ('1938', 605.7275599999999),\n",
              " ('1948', 798.6561233333333),\n",
              " ('1921', 772.7207025),\n",
              " ('2004', 362.57253810000003),\n",
              " ('1941', 615.1505785714286),\n",
              " ('1970', 161.26102740000002),\n",
              " ('1939', 619.8023645000001)]"
            ]
          },
          "metadata": {
            "tags": []
          },
          "execution_count": 74
        }
      ]
    },
    {
      "cell_type": "markdown",
      "metadata": {
        "id": "l9_CCEkP9YiA"
      },
      "source": [
        "## 7.¿Podrías decirme el total de recaudación de las casas de revistimiento (Mas Vnr Type) de piedra con respecto a las de ladrillo? ¿Hay diferencia significativa?\r\n"
      ]
    },
    {
      "cell_type": "markdown",
      "metadata": {
        "id": "Stfb1QWcZRxZ"
      },
      "source": [
        "Para poder analizar el valor total de la recaudación en función del revestimiento de las casas, lo primero que vamos a realizar es un collect distinct para saber cúales son los tipos."
      ]
    },
    {
      "cell_type": "code",
      "metadata": {
        "colab": {
          "base_uri": "https://localhost:8080/"
        },
        "id": "Z-4R5VEGbtTj",
        "outputId": "59feb771-2b9c-4024-e4d9-d8237b756471"
      },
      "source": [
        "raw_data_final_filtrado.map(lambda x : x[9]).distinct().collect()"
      ],
      "execution_count": 75,
      "outputs": [
        {
          "output_type": "execute_result",
          "data": {
            "text/plain": [
              "['None', '', 'CBlock', 'Stone', 'BrkFace', 'BrkCmn']"
            ]
          },
          "metadata": {
            "tags": []
          },
          "execution_count": 75
        }
      ]
    },
    {
      "cell_type": "markdown",
      "metadata": {
        "id": "DP25ZWY2Zji7"
      },
      "source": [
        "A continuación, realizamos el filtrado para obtener tres RDD con cada uno de los tipos que necesitamos, ladrillo normal, ladrillo viso y piedra."
      ]
    },
    {
      "cell_type": "code",
      "metadata": {
        "id": "9CsYpIv1ZxYl"
      },
      "source": [
        "revestimientos = raw_data_final_filtrado.map(lambda x: (x[9], int(x[28])))"
      ],
      "execution_count": 77,
      "outputs": []
    },
    {
      "cell_type": "code",
      "metadata": {
        "id": "cHXCy-5y9xmF"
      },
      "source": [
        "revestimiento_ladrillo_normal = revestimientos.filter(lambda x: not 'BrkFace' in x[0])\\\r\n",
        "                                              .filter(lambda x: not 'Stone' in x[0])\\\r\n",
        "                                              .filter(lambda x: not 'CBlock' in x[0])\\\r\n",
        "                                              .filter(lambda x: not 'None' in x[0])"
      ],
      "execution_count": 78,
      "outputs": []
    },
    {
      "cell_type": "code",
      "metadata": {
        "id": "2dZKtVmbWe2E"
      },
      "source": [
        "revestimiento_ladrillo_viso = revestimientos.filter(lambda x: not 'BrkCmn' in x[0])\\\r\n",
        "                                            .filter(lambda x: not 'Stone' in x[0])\\\r\n",
        "                                            .filter(lambda x: not 'CBlock' in x[0])\\\r\n",
        "                                            .filter(lambda x: not 'None' in x[0])"
      ],
      "execution_count": 79,
      "outputs": []
    },
    {
      "cell_type": "code",
      "metadata": {
        "id": "ChgEC8K2Wem9"
      },
      "source": [
        "revestimiento_ladrillo_piedra = revestimientos.filter(lambda x: not 'BrkFace' in x[0])\\\r\n",
        "                                              .filter(lambda x: not 'BrkCmn' in x[0])\\\r\n",
        "                                              .filter(lambda x: not 'CBlock' in x[0])\\\r\n",
        "                                              .filter(lambda x: not 'None' in x[0])"
      ],
      "execution_count": 80,
      "outputs": []
    },
    {
      "cell_type": "markdown",
      "metadata": {
        "id": "CRwUfU6DZ9BL"
      },
      "source": [
        "Por último, realizamos un reduceByKey para obtener la suma total de cada tipo de revestimiento."
      ]
    },
    {
      "cell_type": "code",
      "metadata": {
        "colab": {
          "base_uri": "https://localhost:8080/"
        },
        "id": "MJFEzFhCa_fg",
        "outputId": "90ac75ba-1e24-4fd9-d07e-34fbf0db2ed3"
      },
      "source": [
        "revestimiento_ladrillo_normal.map(lambda x: (x[0], x[1])).reduceByKey(lambda a,b: a+b).collect()"
      ],
      "execution_count": 81,
      "outputs": [
        {
          "output_type": "execute_result",
          "data": {
            "text/plain": [
              "[('', 3831658), ('BrkCmn', 3504975)]"
            ]
          },
          "metadata": {
            "tags": []
          },
          "execution_count": 81
        }
      ]
    },
    {
      "cell_type": "code",
      "metadata": {
        "colab": {
          "base_uri": "https://localhost:8080/"
        },
        "id": "_i4O__C19xbY",
        "outputId": "82ddf9f1-deb7-4b0b-c0ae-043303af23ec"
      },
      "source": [
        "revestimiento_ladrillo_viso.map(lambda x: (x[0], x[1])).reduceByKey(lambda a,b: a+b).collect()"
      ],
      "execution_count": 82,
      "outputs": [
        {
          "output_type": "execute_result",
          "data": {
            "text/plain": [
              "[('', 3831658), ('BrkFace', 178912561)]"
            ]
          },
          "metadata": {
            "tags": []
          },
          "execution_count": 82
        }
      ]
    },
    {
      "cell_type": "code",
      "metadata": {
        "colab": {
          "base_uri": "https://localhost:8080/"
        },
        "id": "FbPUeyv3bqIS",
        "outputId": "657af98a-609d-4394-aae9-48b2b91ac859"
      },
      "source": [
        "revestimiento_ladrillo_piedra.map(lambda x: (x[0], x[1])).reduceByKey(lambda a,b: a+b).collect()"
      ],
      "execution_count": 83,
      "outputs": [
        {
          "output_type": "execute_result",
          "data": {
            "text/plain": [
              "[('', 3831658), ('Stone', 60175477)]"
            ]
          },
          "metadata": {
            "tags": []
          },
          "execution_count": 83
        }
      ]
    },
    {
      "cell_type": "markdown",
      "metadata": {
        "id": "r80R3QMsaL7v"
      },
      "source": [
        "Ladrillo Normal = 3.504.975\r\n",
        "\r\n",
        "Ladrillo Visto =  179.413.061\r\n",
        "\r\n",
        "Piedra = 60.495.477\r\n",
        "\r\n",
        "De este pequeño análisis se puede comprobar cómo el mercado de viviendas de ladrillo Visto destaca por encima del Ladrillo Normal y de las viviendas con un Revestimiento de Piedra. 179 millones, frente a los 60 millones de Piedra y tan solo 3.5 millones de Ladrillo Normal."
      ]
    },
    {
      "cell_type": "markdown",
      "metadata": {
        "id": "_Ie_P5fl9m-n"
      },
      "source": [
        "## 8.¿Cuánto son más caras las viviendas con 2 cocinas, con 2 o más plazas de garaje que las que tienen 1 cocina y 1 plaza de garaje? Comparar medias y cuartiles de ambos casos"
      ]
    },
    {
      "cell_type": "markdown",
      "metadata": {
        "id": "rNn58d9kjSGw"
      },
      "source": [
        "Seleccionamos las columans necesarias para este ejercicio:\r\n",
        "\r\n",
        "Kitchem AbvGR = 18\r\n",
        "\r\n",
        "Garage Cars = 21\r\n",
        "\r\n",
        "Sale Price = 28"
      ]
    },
    {
      "cell_type": "code",
      "metadata": {
        "id": "hDDpfN-DL2f8"
      },
      "source": [
        "data_8 = raw_data_final_filtrado.map(lambda x : (x[18], x[21], float(x[28])))"
      ],
      "execution_count": 84,
      "outputs": []
    },
    {
      "cell_type": "code",
      "metadata": {
        "colab": {
          "base_uri": "https://localhost:8080/"
        },
        "id": "0PytBvLrfc8z",
        "outputId": "3ee1d13d-86ce-495d-a706-c0eb9edf9eb1"
      },
      "source": [
        "data_8.take(5)"
      ],
      "execution_count": 85,
      "outputs": [
        {
          "output_type": "execute_result",
          "data": {
            "text/plain": [
              "[('1', '2', 215000.0),\n",
              " ('1', '2', 244000.0),\n",
              " ('1', '2', 191500.0),\n",
              " ('1', '2', 236500.0),\n",
              " ('1', '2', 189000.0)]"
            ]
          },
          "metadata": {
            "tags": []
          },
          "execution_count": 85
        }
      ]
    },
    {
      "cell_type": "code",
      "metadata": {
        "colab": {
          "base_uri": "https://localhost:8080/"
        },
        "id": "sPE8oKvsfcws",
        "outputId": "b8ac8244-866c-4b59-a4e9-a902c416131c"
      },
      "source": [
        "cocina_garaje_1 = data_8.filter(lambda x : x[0] == '1')\\\r\n",
        "                        .filter(lambda x : x[1] == '1')\r\n",
        "cocina_garaje_1.take(5)"
      ],
      "execution_count": 86,
      "outputs": [
        {
          "output_type": "execute_result",
          "data": {
            "text/plain": [
              "[('1', '1', 142000.0),\n",
              " ('1', '1', 67500.0),\n",
              " ('1', '1', 138500.0),\n",
              " ('1', '1', 133000.0),\n",
              " ('1', '1', 128000.0)]"
            ]
          },
          "metadata": {
            "tags": []
          },
          "execution_count": 86
        }
      ]
    },
    {
      "cell_type": "code",
      "metadata": {
        "colab": {
          "base_uri": "https://localhost:8080/"
        },
        "id": "E851YETBfcnU",
        "outputId": "844d6d16-165c-4c1d-d3d4-99d97258acbe"
      },
      "source": [
        "cocina_garaje_2 = data_8.filter(lambda x : x[0] == '2')\\\r\n",
        "                        .filter(lambda x : not '0' in x[1])\\\r\n",
        "                        .filter(lambda x : not '1' in x[1])\r\n",
        "cocina_garaje_2.take(7)"
      ],
      "execution_count": 87,
      "outputs": [
        {
          "output_type": "execute_result",
          "data": {
            "text/plain": [
              "[('2', '2', 112000.0),\n",
              " ('2', '2', 135000.0),\n",
              " ('2', '2', 122500.0),\n",
              " ('2', '2', 140000.0),\n",
              " ('2', '2', 114900.0),\n",
              " ('2', '2', 160000.0),\n",
              " ('2', '3', 124000.0)]"
            ]
          },
          "metadata": {
            "tags": []
          },
          "execution_count": 87
        }
      ]
    },
    {
      "cell_type": "markdown",
      "metadata": {
        "id": "rcLOpL91lUsK"
      },
      "source": [
        "## Media General"
      ]
    },
    {
      "cell_type": "code",
      "metadata": {
        "colab": {
          "base_uri": "https://localhost:8080/"
        },
        "id": "yEfY-7KUlJrT",
        "outputId": "8a6c7856-3f5a-4b24-ef75-c56af319c319"
      },
      "source": [
        "cocina_garaje_1.map(lambda x : x[2]).mean()"
      ],
      "execution_count": 88,
      "outputs": [
        {
          "output_type": "execute_result",
          "data": {
            "text/plain": [
              "128121.99337748342"
            ]
          },
          "metadata": {
            "tags": []
          },
          "execution_count": 88
        }
      ]
    },
    {
      "cell_type": "code",
      "metadata": {
        "colab": {
          "base_uri": "https://localhost:8080/"
        },
        "id": "u99UjwAklJo0",
        "outputId": "79cdfa8d-226f-4f7b-8109-93dbaf6a6d62"
      },
      "source": [
        "cocina_garaje_2.map(lambda x : x[2]).mean()"
      ],
      "execution_count": 89,
      "outputs": [
        {
          "output_type": "execute_result",
          "data": {
            "text/plain": [
              "145124.27906976745"
            ]
          },
          "metadata": {
            "tags": []
          },
          "execution_count": 89
        }
      ]
    },
    {
      "cell_type": "markdown",
      "metadata": {
        "id": "uWYg1WCJrEes"
      },
      "source": [
        "Se puede observar que, obviamente, las casas con un garaje y una casa tienen un valor medio de 128.121 frente a los 145.124 de aquellas viviendas con dos cocinas o dos o más plazas de garaje (las cuales son un 13% más caras)."
      ]
    },
    {
      "cell_type": "markdown",
      "metadata": {
        "id": "RMokA35xmi2O"
      },
      "source": [
        "## Cuartiles\r\n",
        "\r\n",
        "### Cohche y Garaje (solo 1)"
      ]
    },
    {
      "cell_type": "code",
      "metadata": {
        "id": "1BSa9K-pmp9p"
      },
      "source": [
        "cocina_garaje_1_precio = cocina_garaje_1.map(lambda x : x[2])\r\n",
        "cocina_garaje_1_precio = cocina_garaje_1_precio.collect()\r\n",
        "cocina_garaje_1_precio.sort()"
      ],
      "execution_count": 90,
      "outputs": []
    },
    {
      "cell_type": "code",
      "metadata": {
        "colab": {
          "base_uri": "https://localhost:8080/"
        },
        "id": "icegZZKWlJmB",
        "outputId": "2355fd48-85f0-404e-e468-6c435ccc26e0"
      },
      "source": [
        "coc_gar_1_c_25 = cocina_garaje_1_precio[int(len(cocina_garaje_1_precio)*.25)]\r\n",
        "coc_gar_1_c_25"
      ],
      "execution_count": 91,
      "outputs": [
        {
          "output_type": "execute_result",
          "data": {
            "text/plain": [
              "111500.0"
            ]
          },
          "metadata": {
            "tags": []
          },
          "execution_count": 91
        }
      ]
    },
    {
      "cell_type": "code",
      "metadata": {
        "colab": {
          "base_uri": "https://localhost:8080/"
        },
        "id": "g1mTLq-hlJjR",
        "outputId": "f49cbd2b-4bb3-4ab5-805e-7b039239ac61"
      },
      "source": [
        "coc_gar_1_c_50 = cocina_garaje_1_precio[int(len(cocina_garaje_1_precio)*.5)]\r\n",
        "coc_gar_1_c_50"
      ],
      "execution_count": 92,
      "outputs": [
        {
          "output_type": "execute_result",
          "data": {
            "text/plain": [
              "128000.0"
            ]
          },
          "metadata": {
            "tags": []
          },
          "execution_count": 92
        }
      ]
    },
    {
      "cell_type": "code",
      "metadata": {
        "colab": {
          "base_uri": "https://localhost:8080/"
        },
        "id": "eAycvtjTlJga",
        "outputId": "1908cd0f-208b-4f1e-ca87-e39663483ebb"
      },
      "source": [
        "coc_gar_1_c_75 = cocina_garaje_1_precio[int(len(cocina_garaje_1_precio)*.75)]\r\n",
        "coc_gar_1_c_75"
      ],
      "execution_count": 93,
      "outputs": [
        {
          "output_type": "execute_result",
          "data": {
            "text/plain": [
              "142125.0"
            ]
          },
          "metadata": {
            "tags": []
          },
          "execution_count": 93
        }
      ]
    },
    {
      "cell_type": "code",
      "metadata": {
        "colab": {
          "base_uri": "https://localhost:8080/"
        },
        "id": "srSl5agtlJdg",
        "outputId": "01876a71-e717-40b5-a13d-7da086c3137a"
      },
      "source": [
        "coc_gar_1_c_100 = cocina_garaje_1_precio[int(len(cocina_garaje_1_precio)*0.999)]\r\n",
        "coc_gar_1_c_100"
      ],
      "execution_count": 94,
      "outputs": [
        {
          "output_type": "execute_result",
          "data": {
            "text/plain": [
              "330000.0"
            ]
          },
          "metadata": {
            "tags": []
          },
          "execution_count": 94
        }
      ]
    },
    {
      "cell_type": "markdown",
      "metadata": {
        "id": "0k_g0xjkrxho"
      },
      "source": [
        "#### Una cocina y un garaje\r\n",
        "Cuartil 25 <- 115.000\r\n",
        "\r\n",
        "Cuartil 50 <- 128.000\r\n",
        "\r\n",
        "Cuartil 75 <- 141.125\r\n",
        "\r\n",
        "Cuartil 100 <- 330.000"
      ]
    },
    {
      "cell_type": "markdown",
      "metadata": {
        "id": "q3wKAMU_oEKD"
      },
      "source": [
        "### Cohche y Garaje (2 o más)"
      ]
    },
    {
      "cell_type": "code",
      "metadata": {
        "id": "OP-ypV_Qqor-"
      },
      "source": [
        "cocina_garaje_2_precio = cocina_garaje_2.map(lambda x : x[2])\r\n",
        "cocina_garaje_2_precio = cocina_garaje_2_precio.collect()\r\n",
        "cocina_garaje_2_precio.sort()"
      ],
      "execution_count": 95,
      "outputs": []
    },
    {
      "cell_type": "code",
      "metadata": {
        "colab": {
          "base_uri": "https://localhost:8080/"
        },
        "id": "ShhU20epoH4k",
        "outputId": "cac390ae-0fd1-4056-e253-ba8a589eba58"
      },
      "source": [
        "coc_gar_2_c_25 = cocina_garaje_2_precio[int(len(cocina_garaje_2_precio)*.25)]\r\n",
        "coc_gar_2_c_25"
      ],
      "execution_count": 96,
      "outputs": [
        {
          "output_type": "execute_result",
          "data": {
            "text/plain": [
              "118964.0"
            ]
          },
          "metadata": {
            "tags": []
          },
          "execution_count": 96
        }
      ]
    },
    {
      "cell_type": "code",
      "metadata": {
        "colab": {
          "base_uri": "https://localhost:8080/"
        },
        "id": "qEhnts2NoH08",
        "outputId": "1951b95a-5745-4c34-aa67-606e0e532944"
      },
      "source": [
        "coc_gar_2_c_50 = cocina_garaje_2_precio[int(len(cocina_garaje_2_precio)*.5)]\r\n",
        "coc_gar_2_c_50"
      ],
      "execution_count": 97,
      "outputs": [
        {
          "output_type": "execute_result",
          "data": {
            "text/plain": [
              "142600.0"
            ]
          },
          "metadata": {
            "tags": []
          },
          "execution_count": 97
        }
      ]
    },
    {
      "cell_type": "code",
      "metadata": {
        "colab": {
          "base_uri": "https://localhost:8080/"
        },
        "id": "YHM3ckvToHjp",
        "outputId": "2ee13d3f-af25-4204-aa60-c5a37687a0cf"
      },
      "source": [
        "coc_gar_2_c_75 = cocina_garaje_2_precio[int(len(cocina_garaje_2_precio)*.75)]\r\n",
        "coc_gar_2_c_75"
      ],
      "execution_count": 98,
      "outputs": [
        {
          "output_type": "execute_result",
          "data": {
            "text/plain": [
              "159000.0"
            ]
          },
          "metadata": {
            "tags": []
          },
          "execution_count": 98
        }
      ]
    },
    {
      "cell_type": "code",
      "metadata": {
        "colab": {
          "base_uri": "https://localhost:8080/"
        },
        "id": "c3RaP474oHfx",
        "outputId": "56766b73-500d-4c5a-eb13-a71652a89ff9"
      },
      "source": [
        "coc_gar_2_c_100 = cocina_garaje_2_precio[int(len(cocina_garaje_2_precio)*0.999)]\r\n",
        "coc_gar_2_c_100"
      ],
      "execution_count": 99,
      "outputs": [
        {
          "output_type": "execute_result",
          "data": {
            "text/plain": [
              "269500.0"
            ]
          },
          "metadata": {
            "tags": []
          },
          "execution_count": 99
        }
      ]
    },
    {
      "cell_type": "markdown",
      "metadata": {
        "id": "hATW90h-rBqD"
      },
      "source": [
        "#### Dos cocinas y más de dos garajes\r\n",
        "Cuartil 25 <- 118.964\r\n",
        "\r\n",
        "Cuartil 50 <- 142.600\r\n",
        "\r\n",
        "Cuartil 75 <- 159.000\r\n",
        "\r\n",
        "Cuartil 100 <- 269.500"
      ]
    },
    {
      "cell_type": "markdown",
      "metadata": {
        "id": "BWUDXCvZsTCd"
      },
      "source": [
        "Para todos los cuartiles, excepto para el útlimo (cuartil de 100), el valor de las viviendas con dos cocinas y dos o más garajes son superiores.\r\n",
        "\r\n",
        "Habría que entrar a analizar el hecho del cuartil de 100 de la casa con una cocina y una sola plaza de garaje ya que podría tratarse de un outlier."
      ]
    },
    {
      "cell_type": "markdown",
      "metadata": {
        "id": "8RtCH-PIcmb8"
      },
      "source": [
        "## 9.(COMPLEMENTARIA) Estudiar la relación entre el precio y el número de Garajes. (Recomiendo segmentar precio por cuartiles y estudiar el número de casos coincidentes)"
      ]
    },
    {
      "cell_type": "markdown",
      "metadata": {
        "id": "JQ0EWXW1bsmu"
      },
      "source": [
        "Importamos las librerías necesarias para realizar el siguiente ejercicio."
      ]
    },
    {
      "cell_type": "code",
      "metadata": {
        "id": "vIAJQ8DugmV_"
      },
      "source": [
        "sc = SparkContext.getOrCreate()\r\n",
        "sqlContext = SQLContext(sc)"
      ],
      "execution_count": 100,
      "outputs": []
    },
    {
      "cell_type": "code",
      "metadata": {
        "id": "VprAKEuFJoAF"
      },
      "source": [
        "import pandas as pd\r\n",
        "import numpy as np\r\n",
        "import matplotlib as pl\r\n",
        "import matplotlib.pyplot as plt\r\n",
        "import seaborn as sns"
      ],
      "execution_count": 101,
      "outputs": []
    },
    {
      "cell_type": "code",
      "metadata": {
        "id": "ghxV7eFlJLGJ"
      },
      "source": [
        "df = pd.read_csv(path, sep = ';')"
      ],
      "execution_count": 102,
      "outputs": []
    },
    {
      "cell_type": "code",
      "metadata": {
        "colab": {
          "base_uri": "https://localhost:8080/",
          "height": 400
        },
        "id": "PAmVPkIXIwb7",
        "outputId": "ee9413b6-2fd3-471d-8a50-915c710c8679"
      },
      "source": [
        "df.head(10)"
      ],
      "execution_count": 103,
      "outputs": [
        {
          "output_type": "execute_result",
          "data": {
            "text/html": [
              "<div>\n",
              "<style scoped>\n",
              "    .dataframe tbody tr th:only-of-type {\n",
              "        vertical-align: middle;\n",
              "    }\n",
              "\n",
              "    .dataframe tbody tr th {\n",
              "        vertical-align: top;\n",
              "    }\n",
              "\n",
              "    .dataframe thead th {\n",
              "        text-align: right;\n",
              "    }\n",
              "</style>\n",
              "<table border=\"1\" class=\"dataframe\">\n",
              "  <thead>\n",
              "    <tr style=\"text-align: right;\">\n",
              "      <th></th>\n",
              "      <th>Order</th>\n",
              "      <th>MS Zoning</th>\n",
              "      <th>Lot Frontage</th>\n",
              "      <th>Lot Area</th>\n",
              "      <th>Land Contour</th>\n",
              "      <th>Land Slope</th>\n",
              "      <th>Overall Qual</th>\n",
              "      <th>Year Built</th>\n",
              "      <th>Year Remod/Add</th>\n",
              "      <th>Mas Vnr Type</th>\n",
              "      <th>Exter Qual</th>\n",
              "      <th>Bsmt Cond</th>\n",
              "      <th>Total Bsmt SF</th>\n",
              "      <th>Heating QC</th>\n",
              "      <th>Central Air</th>\n",
              "      <th>Full Bath</th>\n",
              "      <th>Half Bath</th>\n",
              "      <th>Bedroom AbvGr</th>\n",
              "      <th>Kitchen AbvGr</th>\n",
              "      <th>Kitchen Qual</th>\n",
              "      <th>TotRms AbvGrd</th>\n",
              "      <th>Garage Cars</th>\n",
              "      <th>Garage Area</th>\n",
              "      <th>Garage Cond</th>\n",
              "      <th>Pool Area</th>\n",
              "      <th>Pool QC</th>\n",
              "      <th>Mo Sold</th>\n",
              "      <th>Yr Sold</th>\n",
              "      <th>SalePrice</th>\n",
              "    </tr>\n",
              "  </thead>\n",
              "  <tbody>\n",
              "    <tr>\n",
              "      <th>0</th>\n",
              "      <td>1</td>\n",
              "      <td>RL</td>\n",
              "      <td>141.0</td>\n",
              "      <td>31770</td>\n",
              "      <td>Lvl</td>\n",
              "      <td>Gtl</td>\n",
              "      <td>6</td>\n",
              "      <td>1960</td>\n",
              "      <td>1960</td>\n",
              "      <td>Stone</td>\n",
              "      <td>TA</td>\n",
              "      <td>Gd</td>\n",
              "      <td>1080</td>\n",
              "      <td>Fa</td>\n",
              "      <td>Y</td>\n",
              "      <td>1</td>\n",
              "      <td>0</td>\n",
              "      <td>3</td>\n",
              "      <td>1</td>\n",
              "      <td>TA</td>\n",
              "      <td>7</td>\n",
              "      <td>2.0</td>\n",
              "      <td>528.0</td>\n",
              "      <td>TA</td>\n",
              "      <td>0</td>\n",
              "      <td>Sp</td>\n",
              "      <td>5</td>\n",
              "      <td>2010</td>\n",
              "      <td>215000</td>\n",
              "    </tr>\n",
              "    <tr>\n",
              "      <th>1</th>\n",
              "      <td>2</td>\n",
              "      <td>RH</td>\n",
              "      <td>80.0</td>\n",
              "      <td>11622</td>\n",
              "      <td>Lvl</td>\n",
              "      <td>Gtl</td>\n",
              "      <td>5</td>\n",
              "      <td>1961</td>\n",
              "      <td>1961</td>\n",
              "      <td>None</td>\n",
              "      <td>TA</td>\n",
              "      <td>TA</td>\n",
              "      <td>882</td>\n",
              "      <td>TA</td>\n",
              "      <td>Y</td>\n",
              "      <td>1</td>\n",
              "      <td>0</td>\n",
              "      <td>2</td>\n",
              "      <td>1</td>\n",
              "      <td>TA</td>\n",
              "      <td>5</td>\n",
              "      <td>1.0</td>\n",
              "      <td>730.0</td>\n",
              "      <td>TA</td>\n",
              "      <td>0</td>\n",
              "      <td>Sp</td>\n",
              "      <td>6</td>\n",
              "      <td>2010</td>\n",
              "      <td>105000</td>\n",
              "    </tr>\n",
              "    <tr>\n",
              "      <th>2</th>\n",
              "      <td>3</td>\n",
              "      <td>RL</td>\n",
              "      <td>81.0</td>\n",
              "      <td>14267</td>\n",
              "      <td>Lvl</td>\n",
              "      <td>Gtl</td>\n",
              "      <td>6</td>\n",
              "      <td>1958</td>\n",
              "      <td>1958</td>\n",
              "      <td>BrkFace</td>\n",
              "      <td>TA</td>\n",
              "      <td>TA</td>\n",
              "      <td>1329</td>\n",
              "      <td>TA</td>\n",
              "      <td>Y</td>\n",
              "      <td>1</td>\n",
              "      <td>1</td>\n",
              "      <td>3</td>\n",
              "      <td>1</td>\n",
              "      <td>Gd</td>\n",
              "      <td>6</td>\n",
              "      <td>1.0</td>\n",
              "      <td>312.0</td>\n",
              "      <td>TA</td>\n",
              "      <td>0</td>\n",
              "      <td>Sp</td>\n",
              "      <td>6</td>\n",
              "      <td>2010</td>\n",
              "      <td>172000</td>\n",
              "    </tr>\n",
              "    <tr>\n",
              "      <th>3</th>\n",
              "      <td>4</td>\n",
              "      <td>RL</td>\n",
              "      <td>93.0</td>\n",
              "      <td>11160</td>\n",
              "      <td>Lvl</td>\n",
              "      <td>Gtl</td>\n",
              "      <td>7</td>\n",
              "      <td>1968</td>\n",
              "      <td>1968</td>\n",
              "      <td>None</td>\n",
              "      <td>Gd</td>\n",
              "      <td>TA</td>\n",
              "      <td>2110</td>\n",
              "      <td>Ex</td>\n",
              "      <td>Y</td>\n",
              "      <td>2</td>\n",
              "      <td>1</td>\n",
              "      <td>3</td>\n",
              "      <td>1</td>\n",
              "      <td>Ex</td>\n",
              "      <td>8</td>\n",
              "      <td>2.0</td>\n",
              "      <td>522.0</td>\n",
              "      <td>TA</td>\n",
              "      <td>0</td>\n",
              "      <td>Sp</td>\n",
              "      <td>4</td>\n",
              "      <td>2010</td>\n",
              "      <td>244000</td>\n",
              "    </tr>\n",
              "    <tr>\n",
              "      <th>4</th>\n",
              "      <td>5</td>\n",
              "      <td>RL</td>\n",
              "      <td>74.0</td>\n",
              "      <td>13830</td>\n",
              "      <td>Lvl</td>\n",
              "      <td>Gtl</td>\n",
              "      <td>5</td>\n",
              "      <td>1997</td>\n",
              "      <td>1998</td>\n",
              "      <td>None</td>\n",
              "      <td>TA</td>\n",
              "      <td>TA</td>\n",
              "      <td>928</td>\n",
              "      <td>Gd</td>\n",
              "      <td>Y</td>\n",
              "      <td>2</td>\n",
              "      <td>1</td>\n",
              "      <td>3</td>\n",
              "      <td>1</td>\n",
              "      <td>TA</td>\n",
              "      <td>6</td>\n",
              "      <td>2.0</td>\n",
              "      <td>482.0</td>\n",
              "      <td>TA</td>\n",
              "      <td>0</td>\n",
              "      <td>Sp</td>\n",
              "      <td>3</td>\n",
              "      <td>2010</td>\n",
              "      <td>189900</td>\n",
              "    </tr>\n",
              "    <tr>\n",
              "      <th>5</th>\n",
              "      <td>6</td>\n",
              "      <td>RL</td>\n",
              "      <td>78.0</td>\n",
              "      <td>9978</td>\n",
              "      <td>Lvl</td>\n",
              "      <td>Gtl</td>\n",
              "      <td>6</td>\n",
              "      <td>1998</td>\n",
              "      <td>1998</td>\n",
              "      <td>BrkFace</td>\n",
              "      <td>TA</td>\n",
              "      <td>TA</td>\n",
              "      <td>926</td>\n",
              "      <td>Ex</td>\n",
              "      <td>Y</td>\n",
              "      <td>2</td>\n",
              "      <td>1</td>\n",
              "      <td>3</td>\n",
              "      <td>1</td>\n",
              "      <td>Gd</td>\n",
              "      <td>7</td>\n",
              "      <td>2.0</td>\n",
              "      <td>470.0</td>\n",
              "      <td>TA</td>\n",
              "      <td>0</td>\n",
              "      <td>Sp</td>\n",
              "      <td>6</td>\n",
              "      <td>2010</td>\n",
              "      <td>195500</td>\n",
              "    </tr>\n",
              "    <tr>\n",
              "      <th>6</th>\n",
              "      <td>7</td>\n",
              "      <td>RL</td>\n",
              "      <td>41.0</td>\n",
              "      <td>4920</td>\n",
              "      <td>Lvl</td>\n",
              "      <td>Gtl</td>\n",
              "      <td>8</td>\n",
              "      <td>2001</td>\n",
              "      <td>2001</td>\n",
              "      <td>None</td>\n",
              "      <td>Gd</td>\n",
              "      <td>TA</td>\n",
              "      <td>1338</td>\n",
              "      <td>Ex</td>\n",
              "      <td>Y</td>\n",
              "      <td>2</td>\n",
              "      <td>0</td>\n",
              "      <td>2</td>\n",
              "      <td>1</td>\n",
              "      <td>Gd</td>\n",
              "      <td>6</td>\n",
              "      <td>2.0</td>\n",
              "      <td>582.0</td>\n",
              "      <td>TA</td>\n",
              "      <td>0</td>\n",
              "      <td>Sp</td>\n",
              "      <td>4</td>\n",
              "      <td>2010</td>\n",
              "      <td>213500</td>\n",
              "    </tr>\n",
              "    <tr>\n",
              "      <th>7</th>\n",
              "      <td>8</td>\n",
              "      <td>RL</td>\n",
              "      <td>43.0</td>\n",
              "      <td>5005</td>\n",
              "      <td>HLS</td>\n",
              "      <td>Gtl</td>\n",
              "      <td>8</td>\n",
              "      <td>1992</td>\n",
              "      <td>1992</td>\n",
              "      <td>None</td>\n",
              "      <td>Gd</td>\n",
              "      <td>TA</td>\n",
              "      <td>1280</td>\n",
              "      <td>Ex</td>\n",
              "      <td>Y</td>\n",
              "      <td>2</td>\n",
              "      <td>0</td>\n",
              "      <td>2</td>\n",
              "      <td>1</td>\n",
              "      <td>Gd</td>\n",
              "      <td>5</td>\n",
              "      <td>2.0</td>\n",
              "      <td>506.0</td>\n",
              "      <td>TA</td>\n",
              "      <td>0</td>\n",
              "      <td>Sp</td>\n",
              "      <td>1</td>\n",
              "      <td>2010</td>\n",
              "      <td>191500</td>\n",
              "    </tr>\n",
              "    <tr>\n",
              "      <th>8</th>\n",
              "      <td>9</td>\n",
              "      <td>RL</td>\n",
              "      <td>39.0</td>\n",
              "      <td>5389</td>\n",
              "      <td>Lvl</td>\n",
              "      <td>Gtl</td>\n",
              "      <td>8</td>\n",
              "      <td>1995</td>\n",
              "      <td>1996</td>\n",
              "      <td>None</td>\n",
              "      <td>Gd</td>\n",
              "      <td>TA</td>\n",
              "      <td>1595</td>\n",
              "      <td>Ex</td>\n",
              "      <td>Y</td>\n",
              "      <td>2</td>\n",
              "      <td>0</td>\n",
              "      <td>2</td>\n",
              "      <td>1</td>\n",
              "      <td>Gd</td>\n",
              "      <td>5</td>\n",
              "      <td>2.0</td>\n",
              "      <td>608.0</td>\n",
              "      <td>TA</td>\n",
              "      <td>0</td>\n",
              "      <td>Sp</td>\n",
              "      <td>3</td>\n",
              "      <td>2010</td>\n",
              "      <td>236500</td>\n",
              "    </tr>\n",
              "    <tr>\n",
              "      <th>9</th>\n",
              "      <td>10</td>\n",
              "      <td>RL</td>\n",
              "      <td>60.0</td>\n",
              "      <td>7500</td>\n",
              "      <td>Lvl</td>\n",
              "      <td>Gtl</td>\n",
              "      <td>7</td>\n",
              "      <td>1999</td>\n",
              "      <td>1999</td>\n",
              "      <td>None</td>\n",
              "      <td>TA</td>\n",
              "      <td>TA</td>\n",
              "      <td>994</td>\n",
              "      <td>Gd</td>\n",
              "      <td>Y</td>\n",
              "      <td>2</td>\n",
              "      <td>1</td>\n",
              "      <td>3</td>\n",
              "      <td>1</td>\n",
              "      <td>Gd</td>\n",
              "      <td>7</td>\n",
              "      <td>2.0</td>\n",
              "      <td>442.0</td>\n",
              "      <td>TA</td>\n",
              "      <td>0</td>\n",
              "      <td>Sp</td>\n",
              "      <td>6</td>\n",
              "      <td>2010</td>\n",
              "      <td>189000</td>\n",
              "    </tr>\n",
              "  </tbody>\n",
              "</table>\n",
              "</div>"
            ],
            "text/plain": [
              "   Order MS Zoning  Lot Frontage  Lot Area  ... Pool QC Mo Sold  Yr Sold  SalePrice\n",
              "0      1        RL         141.0     31770  ...      Sp       5     2010     215000\n",
              "1      2        RH          80.0     11622  ...      Sp       6     2010     105000\n",
              "2      3        RL          81.0     14267  ...      Sp       6     2010     172000\n",
              "3      4        RL          93.0     11160  ...      Sp       4     2010     244000\n",
              "4      5        RL          74.0     13830  ...      Sp       3     2010     189900\n",
              "5      6        RL          78.0      9978  ...      Sp       6     2010     195500\n",
              "6      7        RL          41.0      4920  ...      Sp       4     2010     213500\n",
              "7      8        RL          43.0      5005  ...      Sp       1     2010     191500\n",
              "8      9        RL          39.0      5389  ...      Sp       3     2010     236500\n",
              "9     10        RL          60.0      7500  ...      Sp       6     2010     189000\n",
              "\n",
              "[10 rows x 29 columns]"
            ]
          },
          "metadata": {
            "tags": []
          },
          "execution_count": 103
        }
      ]
    },
    {
      "cell_type": "code",
      "metadata": {
        "id": "Qi9ARUIxKAEA"
      },
      "source": [
        "#Generamos un dataframe solo con las columnas que nos interesan\r\n",
        "lista = ['SalePrice', 'Garage Cars']\r\n",
        "df_selected = df[lista]"
      ],
      "execution_count": 104,
      "outputs": []
    },
    {
      "cell_type": "code",
      "metadata": {
        "colab": {
          "base_uri": "https://localhost:8080/",
          "height": 405
        },
        "id": "zXQto-nDLnCm",
        "outputId": "32dedd16-1c0a-435f-9008-586b3198d137"
      },
      "source": [
        "#Elminamos valores nulos\r\n",
        "df_selected.dropna()"
      ],
      "execution_count": 105,
      "outputs": [
        {
          "output_type": "execute_result",
          "data": {
            "text/html": [
              "<div>\n",
              "<style scoped>\n",
              "    .dataframe tbody tr th:only-of-type {\n",
              "        vertical-align: middle;\n",
              "    }\n",
              "\n",
              "    .dataframe tbody tr th {\n",
              "        vertical-align: top;\n",
              "    }\n",
              "\n",
              "    .dataframe thead th {\n",
              "        text-align: right;\n",
              "    }\n",
              "</style>\n",
              "<table border=\"1\" class=\"dataframe\">\n",
              "  <thead>\n",
              "    <tr style=\"text-align: right;\">\n",
              "      <th></th>\n",
              "      <th>SalePrice</th>\n",
              "      <th>Garage Cars</th>\n",
              "    </tr>\n",
              "  </thead>\n",
              "  <tbody>\n",
              "    <tr>\n",
              "      <th>0</th>\n",
              "      <td>215000</td>\n",
              "      <td>2.0</td>\n",
              "    </tr>\n",
              "    <tr>\n",
              "      <th>1</th>\n",
              "      <td>105000</td>\n",
              "      <td>1.0</td>\n",
              "    </tr>\n",
              "    <tr>\n",
              "      <th>2</th>\n",
              "      <td>172000</td>\n",
              "      <td>1.0</td>\n",
              "    </tr>\n",
              "    <tr>\n",
              "      <th>3</th>\n",
              "      <td>244000</td>\n",
              "      <td>2.0</td>\n",
              "    </tr>\n",
              "    <tr>\n",
              "      <th>4</th>\n",
              "      <td>189900</td>\n",
              "      <td>2.0</td>\n",
              "    </tr>\n",
              "    <tr>\n",
              "      <th>...</th>\n",
              "      <td>...</td>\n",
              "      <td>...</td>\n",
              "    </tr>\n",
              "    <tr>\n",
              "      <th>2931</th>\n",
              "      <td>188000</td>\n",
              "      <td>3.0</td>\n",
              "    </tr>\n",
              "    <tr>\n",
              "      <th>2932</th>\n",
              "      <td>250000</td>\n",
              "      <td>2.0</td>\n",
              "    </tr>\n",
              "    <tr>\n",
              "      <th>2933</th>\n",
              "      <td>202000</td>\n",
              "      <td>2.0</td>\n",
              "    </tr>\n",
              "    <tr>\n",
              "      <th>2934</th>\n",
              "      <td>312500</td>\n",
              "      <td>3.0</td>\n",
              "    </tr>\n",
              "    <tr>\n",
              "      <th>2935</th>\n",
              "      <td>320000</td>\n",
              "      <td>3.0</td>\n",
              "    </tr>\n",
              "  </tbody>\n",
              "</table>\n",
              "<p>2935 rows × 2 columns</p>\n",
              "</div>"
            ],
            "text/plain": [
              "      SalePrice  Garage Cars\n",
              "0        215000          2.0\n",
              "1        105000          1.0\n",
              "2        172000          1.0\n",
              "3        244000          2.0\n",
              "4        189900          2.0\n",
              "...         ...          ...\n",
              "2931     188000          3.0\n",
              "2932     250000          2.0\n",
              "2933     202000          2.0\n",
              "2934     312500          3.0\n",
              "2935     320000          3.0\n",
              "\n",
              "[2935 rows x 2 columns]"
            ]
          },
          "metadata": {
            "tags": []
          },
          "execution_count": 105
        }
      ]
    },
    {
      "cell_type": "code",
      "metadata": {
        "colab": {
          "base_uri": "https://localhost:8080/"
        },
        "id": "aij05cVtpPse",
        "outputId": "a5a7fb73-9c76-47fc-a870-cf7160c8ceb5"
      },
      "source": [
        "df_selected['Garage Cars'] = df_selected['Garage Cars'].fillna(0)"
      ],
      "execution_count": 106,
      "outputs": [
        {
          "output_type": "stream",
          "text": [
            "/usr/local/lib/python3.6/dist-packages/ipykernel_launcher.py:1: SettingWithCopyWarning: \n",
            "A value is trying to be set on a copy of a slice from a DataFrame.\n",
            "Try using .loc[row_indexer,col_indexer] = value instead\n",
            "\n",
            "See the caveats in the documentation: https://pandas.pydata.org/pandas-docs/stable/user_guide/indexing.html#returning-a-view-versus-a-copy\n",
            "  \"\"\"Entry point for launching an IPython kernel.\n"
          ],
          "name": "stderr"
        }
      ]
    },
    {
      "cell_type": "code",
      "metadata": {
        "colab": {
          "base_uri": "https://localhost:8080/"
        },
        "id": "VoPWI3TXL8F3",
        "outputId": "109a6ebd-1201-489f-d6b9-4ddfbe6bcbea"
      },
      "source": [
        "df_selected.dtypes"
      ],
      "execution_count": 107,
      "outputs": [
        {
          "output_type": "execute_result",
          "data": {
            "text/plain": [
              "SalePrice        int64\n",
              "Garage Cars    float64\n",
              "dtype: object"
            ]
          },
          "metadata": {
            "tags": []
          },
          "execution_count": 107
        }
      ]
    },
    {
      "cell_type": "code",
      "metadata": {
        "colab": {
          "base_uri": "https://localhost:8080/"
        },
        "id": "__d1Jwv8g7Oq",
        "outputId": "f78e7f8d-e725-43a8-a243-345b04eb0325"
      },
      "source": [
        "x_df = df_selected['SalePrice']\r\n",
        "y_df = df_selected['Garage Cars']\r\n",
        "np.corrcoef(x_df, y_df)"
      ],
      "execution_count": 108,
      "outputs": [
        {
          "output_type": "execute_result",
          "data": {
            "text/plain": [
              "array([[1.        , 0.64795836],\n",
              "       [0.64795836, 1.        ]])"
            ]
          },
          "metadata": {
            "tags": []
          },
          "execution_count": 108
        }
      ]
    },
    {
      "cell_type": "markdown",
      "metadata": {
        "id": "EeUneaxs3xI7"
      },
      "source": [
        "Como se puede observar, la correlación entre ambas variables es de casi 0.65, lo que nos indica que existe una fuerte relación positiva entre el número de plazas de garajes con el precio de venta de la vivienda."
      ]
    },
    {
      "cell_type": "markdown",
      "metadata": {
        "id": "2SVrSuREcCGC"
      },
      "source": [
        "Generamos la visualización de los datos"
      ]
    },
    {
      "cell_type": "code",
      "metadata": {
        "colab": {
          "base_uri": "https://localhost:8080/",
          "height": 349
        },
        "id": "cWnZShMDqlYd",
        "outputId": "6776bb98-60ef-449e-9225-832c30eae2b5"
      },
      "source": [
        "#Visualización\r\n",
        "df_selected.plot.scatter(x=\"SalePrice\", y=\"Garage Cars\");\r\n",
        "sns.regplot(x_df, y_df, ci=None); #create scatterplot with regression line\r\n",
        "plt.xlabel('SalePrice') #NOMBRE EJE X\r\n",
        "plt.ylabel('Garage Cars') #NOMBRE EJE Y\r\n",
        "plt.title('ScatterPlot del Precio y del número de Garajes'); #TÍTULO"
      ],
      "execution_count": 109,
      "outputs": [
        {
          "output_type": "stream",
          "text": [
            "/usr/local/lib/python3.6/dist-packages/seaborn/_decorators.py:43: FutureWarning: Pass the following variables as keyword args: x, y. From version 0.12, the only valid positional argument will be `data`, and passing other arguments without an explicit keyword will result in an error or misinterpretation.\n",
            "  FutureWarning\n"
          ],
          "name": "stderr"
        },
        {
          "output_type": "display_data",
          "data": {
            "image/png": "[encoded data removed]",
            "text/plain": [
              "<Figure size 432x288 with 1 Axes>"
            ]
          },
          "metadata": {
            "tags": [],
            "needs_background": "light"
          }
        }
      ]
    },
    {
      "cell_type": "markdown",
      "metadata": {
        "id": "eIhVLGONcF07"
      },
      "source": [
        "Podemos observar a simple vista, como a medida que aumenta el número de plazas de garaje, el precio de venta también aumenta, lo que indica una clara corelaccion positiva.\r\n",
        "\r\n",
        "Un análisis posterior deberías ser el de obtener la media por cada grupo (numero de plazas de garaje) así como una distribución de su precio."
      ]
    },
    {
      "cell_type": "markdown",
      "metadata": {
        "id": "FJb_SG-ccqKq"
      },
      "source": [
        "## 10.(COMPLEMENTARIA) Las 10 viviendas con mejores servicios y mejor precio."
      ]
    },
    {
      "cell_type": "markdown",
      "metadata": {
        "id": "Z1QNbSiccvuK"
      },
      "source": [
        "No he sido capaz de realizarla"
      ]
    }
  ]
}