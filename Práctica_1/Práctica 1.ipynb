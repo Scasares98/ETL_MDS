{
 "cells": [
  {
   "cell_type": "markdown",
   "metadata": {},
   "source": [
    "# Extracción, Transformación y Carga\n",
    "\n",
    "__Autor:__ Sergio Casares Fernández"
   ]
  },
  {
   "cell_type": "markdown",
   "metadata": {},
   "source": [
    "# 1. Teoría\n",
    "\n",
    "Introducción teórica del trabajo\n",
    "\n",
    "## 1.1. Tipos de datos\n",
    "\n",
    "Se dividen en datos estructurados y no estructurados\n",
    "\n",
    "### 1.1.A. Datos Estructurados\n",
    "\n",
    "Nos referimos a la información que se suele encontrar en la mayoría de bases de datos relacionales (RDBMS). Suelen ser archivos de texto que se almacenan en formato tabla, hojas de cálculo o bases de datos relacionales con títulos para cada categoría que permite identificarlos.\n",
    "\n",
    "Para gestionar este tipo de datos se utiliza un tipo de lenguaje de programación estructurado, conocido como SQL (Structured Query Language) diseñado para administrar y recuperar información de sistemas de gestión de bases de datos relacionales (RDBMS)\n",
    "\n",
    "### 1.1.B. Datos no Estructurados\n",
    "\n",
    "La característica principal de este tipo de datos, generalmente binarios, es que no poseen una estructura interna identificable. Se trata de un cúmulo de información que deben identificarse y almacenarse de forma organizada a través de una base de datos no relacional (NoSQL).\n",
    "\n",
    "Los datos no estructurados que puede generar el ser se pueden almacenar en múltiples formatos como:\n",
    "\n",
    "* Documentos PDF.\n",
    "* Documentos Word.\n",
    "* Correos electrónicos. Habitualmente, se suelen categorizar como datos semiestructurados. No obstante, el campo del mensaje no está estructurado y las herramientas tradicionales de análisis no son capaces de identificarlos.\n",
    "* Datos móviles: mensajes de texto, ubicaciones, mensajería instantánea, grabaciones telefónicas, etcétera.\n",
    "* Hojas de cálculo.\n",
    "* Vídeos y audios.\n",
    "* Publicaciones en medios sociales.\n",
    "\n",
    "El ser humano no es el único capaz de generar datos, las máquinas también lo hacen constantemente.  En este sentido la información más destacable que podemos obtener son las imágenes de satélite, imágenes de vigilancia digital, datos de sensores de tráfico, clima u oceanográficos.\n",
    "\n",
    "Una vez organizados los archivos que conforman el contenido se pueden categorizar para obtener información. Esta labor se puede llevar a través de múltiples herramientas de software para el procesamiento, gestión o almacenamiento de las que hemos hablado en anteriores entradas, como por ejemplo Hadoop, MapReduce, Cassandra, etcétera.\n",
    "\n",
    "### 1.1.C. Diferencias tipos de datos\n",
    "\n",
    "__Almacenamiento__\n",
    "Esta es la diferencia más clara entre ambos conceptos. Los datos estructurados se almacenan en una base de datos relacional (RDBMS), mientras que los datos no estructurados no pueden almacenarse en estructuras de datos relacionales predefinidas (NoSQL).\n",
    "\n",
    "__Facilidad de análisis__\n",
    "Los datos estructurados al poseer, como su propio nombre indica, una estructura organizada que otorga al usuario de facilidad de análisis para la obtención de resultados medibles. Por el contrario, los datos no estructurados necesitan herramientas analíticas más complejas.\n",
    "\n",
    "__Flexibilidad__\n",
    "Los datos no estructurados que permanecen en el Data Lake son más flexibles, es decir,  mucho menos sensibles a los cambios que los datos estructurados. Al almacenar toda la información en bruto, permite el acceso de cualquier usuario para configure y reconfigurare según la finalidad para la que hayan sido concebidos.\n",
    "\n",
    "__Información__\n",
    "Los datos almacenados en el Data Warehouse son más maduros y, precisamente por esa cualidad proporcionan resultados organizados y fiables que los que permanecen en el Data Lake, que destacan por ser un conglomerado de información masiva."
   ]
  },
  {
   "cell_type": "markdown",
   "metadata": {},
   "source": [
    "## 1.2. Formatos YAML y JSON\n",
    "\n",
    "### 1.2.A. YAML\n",
    "\n",
    "YAML database is a document database which stores documents as YAML files. The documents in the database can be maintained by simply editing the yaml files.\n",
    "\n",
    "This database was designed to be used for systems like CMS systems, where an easy way to edit data is necessary and the number of data objects is not very high. It can be also used to store settings and configurations.\n",
    "\n",
    "Storing the database as separate files lets you use version control systems like git on the database, which is again ideal for storing settings, configurations, blog posts and CMS content.\n",
    "\n",
    "__ADVANTAGES__\n",
    "\n",
    "* Can easily change database entries\n",
    "* Can use version control on the database\n",
    "* Ideal for settings and configurations (user configs etc)\n",
    "\n",
    "__DISADVANTAGES__\n",
    "\n",
    "* No SQL or similar functionality (like searching the database)\n",
    "* Not suitable for storing transactional data\n",
    "\n",
    "### 1.2.B. JSON\n",
    "\n",
    "\n",
    "JavaScript Object Notation (JSON) es un formato basado en texto estándar para representar datos estructurados en la sintaxis de objetos de JavaScript. Es comúnmente utilizado para transmitir datos en aplicaciones web (por ejemplo: enviar algunos datos desde el servidor al cliente, así estos datos pueden ser mostrados en páginas web, o vice versa).\n",
    "\n",
    "JSON es un formato de datos basado en texto que sigue la sintaxis de objeto de JavaScript, popularizado por Douglas Crockford. Aunque es muy parecido a la sintaxis de objeto literal de JavaScript, puede ser utilizado independientemente de JavaScript, y muchos entornos de programación poseen la capacidad de leer (convertir; parsear) y generar JSON.\n",
    "\n",
    "### 1.2.C. Diferencias Yaml y Json\n",
    "\n",
    "* 1. YAML, dependiendo de cómo lo use, puede ser más legible que JSON\n",
    "* 2. JSON es a menudo más rápido y probablemente aún sea interoperable con más sistemas\n",
    "* 3. Es posible escribir un analizador JSON “lo suficientemente bueno” muy rápidamente\n",
    "* 4. Las claves duplicadas, que son JSON potencialmente válidas, son definitivamente inválidas YAML.\n",
    "* 5. YAML tiene un montón de características, que incluyen comentarios y anclajes relacionales. La syntax de YAML es bastante compleja y puede ser difícil de entender.\n",
    "* 6. Es posible escribir estructuras recursivas en yaml: {a: &b [*b]} , que se repetirá infinitamente en algunos convertidores. Incluso con la detección circular, una “bomba yaml” aún es posible (ver bomba xml ).\n",
    "* 7. Como no hay referencias, es imposible serializar estructuras complejas con referencias a objetos en JSON. La serialización de YAML puede, por lo tanto, ser más eficiente.\n",
    "* 8. En algunos entornos de encoding, el uso de YAML puede permitir que un atacante ejecute código arbitrario ."
   ]
  },
  {
   "cell_type": "markdown",
   "metadata": {},
   "source": [
    "# 2. Preguntas\n",
    "\n",
    "## ¿Se pueden leer con spark? \n",
    "\n",
    "Spark es un sistema de computación distribuida de software libre, que permite procesar grandes conjuntos de datos sobre un conjunto de máquinas de forma simultánea, proporcionando escalabilidad horizontal y la tolerancia a fallos.\n",
    "\n",
    "Sí se puede, no solo con la interfaz de Spark sino también utilizando la librería en Python de Pyspark:\n",
    "\n",
    "* https://sparkbyexamples.com/spark/spark-read-and-write-json-file/\n",
    "\n",
    "\n",
    "## ¿Qué tipo de bases de datos No SQL usa estructuras de datos similares?\n",
    "\n",
    "El formato YAML y JSON utiliza bases de datos de tipo documental, pero además, este formato no solo permite hacer búsquedas por clave o valor sino que también puede realizar consultas más avanzadas sobre el contenido del documento.\n",
    "\n",
    "__Bases de datos documentales similares:__  MongoDB o CouchDB (las más similares a Yaml y Json)\n",
    "\n",
    "\n",
    "\n",
    "También existen otro tipo de base de datos que pueden clasificar en función de su utilización:\n",
    "\n",
    "__Bases de datos clave – valor:__ Cassandra, BigTable o HBase.\n",
    "\n",
    "__Bases de datos en grafo:__  Neo4j, InfoGrid o Virtuoso.\n",
    "\n",
    "__Bases de datos orientadas a objetos:__ Zope, Gemstone o Db4o."
   ]
  },
  {
   "cell_type": "markdown",
   "metadata": {},
   "source": [
    "# 3. Ejemplos Prácticos\n",
    "\n",
    "## 3.1. YAML"
   ]
  },
  {
   "cell_type": "code",
   "execution_count": 71,
   "metadata": {},
   "outputs": [],
   "source": [
    "#importamos la libreria YAML\n",
    "import yaml"
   ]
  },
  {
   "cell_type": "code",
   "execution_count": 106,
   "metadata": {},
   "outputs": [],
   "source": [
    "#Creamos el contenido de la base de datos no relacional\n",
    "data = { 'Name': 'Sergio',\n",
    "        'Age' : 22,\n",
    "        'Location' : {'Localidad':'Navalmoral de la Mata',\n",
    "                      'Provincia':'Caceres'},\n",
    "       'Social Media' : {'Youtube': 'https://www.youtube.com/channel/UCSbzrD7fR8jozUWWoDJDVEg?view_as=subscriber' ,\n",
    "                        'Github' : 'https://github.com/Scasares98',\n",
    "                       },\n",
    "       'Languajes' : {'markup' : ['HTML', 'RMD', 'YAML'],\n",
    "                     'Programming' : ['R', 'Python', 'SQL']}\n",
    "       }"
   ]
  },
  {
   "cell_type": "code",
   "execution_count": 107,
   "metadata": {},
   "outputs": [
    {
     "name": "stdout",
     "output_type": "stream",
     "text": [
      "{'Name': 'Sergio', 'Age': 22, 'Location': {'Localidad': 'Navalmoral de la Mata', 'Provincia': 'Caceres'}, 'Social Media': {'Youtube': 'https://www.youtube.com/channel/UCSbzrD7fR8jozUWWoDJDVEg?view_as=subscriber', 'Github': 'https://github.com/Scasares98'}, 'Languajes': {'markup': ['HTML', 'RMD', 'YAML'], 'Programming': ['R', 'Python', 'SQL']}}\n"
     ]
    },
    {
     "data": {
      "text/plain": [
       "(None,\n",
       " {'Name': 'Sergio',\n",
       "  'Age': 22,\n",
       "  'Location': {'Localidad': 'Navalmoral de la Mata', 'Provincia': 'Caceres'},\n",
       "  'Social Media': {'Youtube': 'https://www.youtube.com/channel/UCSbzrD7fR8jozUWWoDJDVEg?view_as=subscriber',\n",
       "   'Github': 'https://github.com/Scasares98'},\n",
       "  'Languajes': {'markup': ['HTML', 'RMD', 'YAML'],\n",
       "   'Programming': ['R', 'Python', 'SQL']}})"
      ]
     },
     "execution_count": 107,
     "metadata": {},
     "output_type": "execute_result"
    }
   ],
   "source": [
    "#diferencia print a enseñar el objeto\n",
    "print(data), data"
   ]
  },
  {
   "cell_type": "code",
   "execution_count": 108,
   "metadata": {},
   "outputs": [],
   "source": [
    "#Convertir data a un formato YAML\n",
    "x = yaml.dump(data)"
   ]
  },
  {
   "cell_type": "code",
   "execution_count": 109,
   "metadata": {},
   "outputs": [
    {
     "name": "stdout",
     "output_type": "stream",
     "text": [
      "\"Age: 22\\nLanguajes:\\n  Programming:\\n  - R\\n  - Python\\n  - SQL\\n  markup:\\n  - HTML\\n\\\n",
      "  \\  - RMD\\n  - YAML\\nLocation:\\n  Localidad: Navalmoral de la Mata\\n  Provincia:\\\n",
      "  \\ Caceres\\nName: Sergio\\nSocial Media:\\n  Github: https://github.com/Scasares98\\n\\\n",
      "  \\  Youtube: https://www.youtube.com/channel/UCSbzrD7fR8jozUWWoDJDVEg?view_as=subscriber\\n\"\n",
      "\n"
     ]
    }
   ],
   "source": [
    "print(yaml.dump(x, default_flow_style = False))"
   ]
  },
  {
   "cell_type": "markdown",
   "metadata": {},
   "source": [
    "Accedemos a los datos:"
   ]
  },
  {
   "cell_type": "code",
   "execution_count": 137,
   "metadata": {},
   "outputs": [
    {
     "data": {
      "text/plain": [
       "('Sergio', 22)"
      ]
     },
     "execution_count": 137,
     "metadata": {},
     "output_type": "execute_result"
    }
   ],
   "source": [
    "yaml.load(x, Loader = yaml.FullLoader)['Name'], data['Age']"
   ]
  },
  {
   "cell_type": "code",
   "execution_count": 134,
   "metadata": {},
   "outputs": [
    {
     "data": {
      "text/plain": [
       "('Sergio', 22)"
      ]
     },
     "execution_count": 134,
     "metadata": {},
     "output_type": "execute_result"
    }
   ],
   "source": [
    "data['Name'], data['Age']"
   ]
  },
  {
   "cell_type": "code",
   "execution_count": 139,
   "metadata": {},
   "outputs": [
    {
     "data": {
      "text/plain": [
       "'https://www.youtube.com/channel/UCSbzrD7fR8jozUWWoDJDVEg?view_as=subscriber'"
      ]
     },
     "execution_count": 139,
     "metadata": {},
     "output_type": "execute_result"
    }
   ],
   "source": [
    "yaml.load(x, Loader = yaml.FullLoader)['Social Media']['Youtube']"
   ]
  },
  {
   "cell_type": "code",
   "execution_count": 136,
   "metadata": {},
   "outputs": [
    {
     "data": {
      "text/plain": [
       "'R'"
      ]
     },
     "execution_count": 136,
     "metadata": {},
     "output_type": "execute_result"
    }
   ],
   "source": [
    "data['Languajes']['Programming'][0]"
   ]
  },
  {
   "cell_type": "markdown",
   "metadata": {},
   "source": [
    "## 3.2. JSON\n",
    "\n",
    "#### EJEMPLO 1"
   ]
  },
  {
   "cell_type": "code",
   "execution_count": 90,
   "metadata": {},
   "outputs": [],
   "source": [
    "#Importar las librerías\n",
    "import json"
   ]
  },
  {
   "cell_type": "code",
   "execution_count": 185,
   "metadata": {},
   "outputs": [],
   "source": [
    "#Creación del contenido de una base de datos no relacional\n",
    "Y =       {\n",
    "                      \"squadName\": \"Super hero squad\",\n",
    "                      \"homeTown\": \"Metro City\",\n",
    "                      \"formed\": 2016,\n",
    "                      \"secretBase\": \"Super tower\",\n",
    "                      \"active\": True,\n",
    "                      \"members\": [\n",
    "                        {\n",
    "                          \"name\": \"Molecule Man\",\n",
    "                          \"age\": 29,\n",
    "                          \"secretIdentity\": \"Dan Jukes\",\n",
    "                          \"powers\": [\n",
    "                            \"Radiation resistance\",\n",
    "                            \"Turning tiny\",\n",
    "                            \"Radiation blast\"\n",
    "                          ]\n",
    "                        },\n",
    "                        {\n",
    "                          \"name\": \"Madame Uppercut\",\n",
    "                          \"age\": 39,\n",
    "                          \"secretIdentity\": \"Jane Wilson\",\n",
    "                          \"powers\": [\n",
    "                            \"Million tonne punch\",\n",
    "                            \"Damage resistance\",\n",
    "                            \"Superhuman reflexes\"\n",
    "                          ]\n",
    "                        },\n",
    "                        {\n",
    "                          \"name\": \"Eternal Flame\",\n",
    "                          \"age\": 1000000,\n",
    "                          \"secretIdentity\": \"Unknown\",\n",
    "                          \"powers\": [\n",
    "                            \"Immortality\",\n",
    "                            \"Heat Immunity\",\n",
    "                            \"Inferno\",\n",
    "                            \"Teleportation\",\n",
    "                            \"Interdimensional travel\"\n",
    "                          ]\n",
    "                        }\n",
    "                      ]\n",
    "                    }"
   ]
  },
  {
   "cell_type": "code",
   "execution_count": 92,
   "metadata": {},
   "outputs": [],
   "source": [
    "# convert into JSON:\n",
    "Y = json.dumps(Y)"
   ]
  },
  {
   "cell_type": "code",
   "execution_count": 186,
   "metadata": {},
   "outputs": [
    {
     "name": "stdout",
     "output_type": "stream",
     "text": [
      "{'squadName': 'Super hero squad', 'homeTown': 'Metro City', 'formed': 2016, 'secretBase': 'Super tower', 'active': True, 'members': [{'name': 'Molecule Man', 'age': 29, 'secretIdentity': 'Dan Jukes', 'powers': ['Radiation resistance', 'Turning tiny', 'Radiation blast']}, {'name': 'Madame Uppercut', 'age': 39, 'secretIdentity': 'Jane Wilson', 'powers': ['Million tonne punch', 'Damage resistance', 'Superhuman reflexes']}, {'name': 'Eternal Flame', 'age': 1000000, 'secretIdentity': 'Unknown', 'powers': ['Immortality', 'Heat Immunity', 'Inferno', 'Teleportation', 'Interdimensional travel']}]}\n"
     ]
    },
    {
     "data": {
      "text/plain": [
       "(None,\n",
       " {'squadName': 'Super hero squad',\n",
       "  'homeTown': 'Metro City',\n",
       "  'formed': 2016,\n",
       "  'secretBase': 'Super tower',\n",
       "  'active': True,\n",
       "  'members': [{'name': 'Molecule Man',\n",
       "    'age': 29,\n",
       "    'secretIdentity': 'Dan Jukes',\n",
       "    'powers': ['Radiation resistance', 'Turning tiny', 'Radiation blast']},\n",
       "   {'name': 'Madame Uppercut',\n",
       "    'age': 39,\n",
       "    'secretIdentity': 'Jane Wilson',\n",
       "    'powers': ['Million tonne punch',\n",
       "     'Damage resistance',\n",
       "     'Superhuman reflexes']},\n",
       "   {'name': 'Eternal Flame',\n",
       "    'age': 1000000,\n",
       "    'secretIdentity': 'Unknown',\n",
       "    'powers': ['Immortality',\n",
       "     'Heat Immunity',\n",
       "     'Inferno',\n",
       "     'Teleportation',\n",
       "     'Interdimensional travel']}]})"
      ]
     },
     "execution_count": 186,
     "metadata": {},
     "output_type": "execute_result"
    }
   ],
   "source": [
    "print(Y), Y"
   ]
  },
  {
   "cell_type": "markdown",
   "metadata": {},
   "source": [
    "Accedemos a los datos:"
   ]
  },
  {
   "cell_type": "code",
   "execution_count": 189,
   "metadata": {},
   "outputs": [
    {
     "data": {
      "text/plain": [
       "['Immortality',\n",
       " 'Heat Immunity',\n",
       " 'Inferno',\n",
       " 'Teleportation',\n",
       " 'Interdimensional travel']"
      ]
     },
     "execution_count": 189,
     "metadata": {},
     "output_type": "execute_result"
    }
   ],
   "source": [
    "#poderes de la tercera persona\n",
    "Y['members'][2]['powers']"
   ]
  },
  {
   "cell_type": "code",
   "execution_count": 190,
   "metadata": {},
   "outputs": [
    {
     "data": {
      "text/plain": [
       "'Superhuman reflexes'"
      ]
     },
     "execution_count": 190,
     "metadata": {},
     "output_type": "execute_result"
    }
   ],
   "source": [
    "Y['members'][1]['powers'][2]"
   ]
  },
  {
   "cell_type": "markdown",
   "metadata": {},
   "source": [
    "#### EJEMPLO 2"
   ]
  },
  {
   "cell_type": "code",
   "execution_count": 170,
   "metadata": {},
   "outputs": [
    {
     "name": "stdout",
     "output_type": "stream",
     "text": [
      "{\"name\": \"John\", \"age\": 30, \"married\": true, \"divorced\": false, \"children\": [\"Ann\", \"Billy\"], \"pets\": null, \"cars\": [{\"model\": \"BMW 230\", \"mpg\": 27.5}, {\"model\": \"Ford Edge\", \"mpg\": 24.1}]}\n"
     ]
    }
   ],
   "source": [
    "x_2 = {\n",
    "  \"name\": \"John\",\n",
    "  \"age\": 30,\n",
    "  \"married\": True,\n",
    "  \"divorced\": False,\n",
    "  \"children\": (\"Ann\",\"Billy\"),\n",
    "  \"pets\": None,\n",
    "  \"cars\": [\n",
    "    {\"model\": \"BMW 230\", \"mpg\": 27.5},\n",
    "    {\"model\": \"Ford Edge\", \"mpg\": 24.1}\n",
    "  ]\n",
    "}\n",
    "\n",
    "print(json.dumps(x_2))"
   ]
  },
  {
   "cell_type": "code",
   "execution_count": 184,
   "metadata": {},
   "outputs": [
    {
     "data": {
      "text/plain": [
       "'Ann'"
      ]
     },
     "execution_count": 184,
     "metadata": {},
     "output_type": "execute_result"
    }
   ],
   "source": [
    "x_2['children'][0]"
   ]
  },
  {
   "cell_type": "markdown",
   "metadata": {},
   "source": [
    "Presentación y alteración del archivo JSON:"
   ]
  },
  {
   "cell_type": "code",
   "execution_count": 179,
   "metadata": {},
   "outputs": [
    {
     "name": "stdout",
     "output_type": "stream",
     "text": [
      "{\n",
      "     \"name\": \"John\",\n",
      "     \"age\": 30,\n",
      "     \"married\": true,\n",
      "     \"divorced\": false,\n",
      "     \"children\": [\n",
      "          \"Ann\",\n",
      "          \"Billy\"\n",
      "     ],\n",
      "     \"pets\": null,\n",
      "     \"cars\": [\n",
      "          {\n",
      "               \"model\": \"BMW 230\",\n",
      "               \"mpg\": 27.5\n",
      "          },\n",
      "          {\n",
      "               \"model\": \"Ford Edge\",\n",
      "               \"mpg\": 24.1\n",
      "          }\n",
      "     ]\n",
      "}\n"
     ]
    }
   ],
   "source": [
    "#numero de espacios\n",
    "print(json.dumps(x_2, indent=5))"
   ]
  },
  {
   "cell_type": "code",
   "execution_count": 181,
   "metadata": {},
   "outputs": [
    {
     "name": "stdout",
     "output_type": "stream",
     "text": [
      "{\n",
      "    \"name\" = \"John\". \n",
      "    \"age\" = 30. \n",
      "    \"married\" = true. \n",
      "    \"divorced\" = false. \n",
      "    \"children\" = [\n",
      "        \"Ann\". \n",
      "        \"Billy\"\n",
      "    ]. \n",
      "    \"pets\" = null. \n",
      "    \"cars\" = [\n",
      "        {\n",
      "            \"model\" = \"BMW 230\". \n",
      "            \"mpg\" = 27.5\n",
      "        }. \n",
      "        {\n",
      "            \"model\" = \"Ford Edge\". \n",
      "            \"mpg\" = 24.1\n",
      "        }\n",
      "    ]\n",
      "}\n"
     ]
    }
   ],
   "source": [
    "print(json.dumps(x_2, indent=4, separators=(\". \", \" = \")))"
   ]
  },
  {
   "cell_type": "code",
   "execution_count": 182,
   "metadata": {},
   "outputs": [
    {
     "name": "stdout",
     "output_type": "stream",
     "text": [
      "{\n",
      "    \"age\": 30,\n",
      "    \"cars\": [\n",
      "        {\n",
      "            \"model\": \"BMW 230\",\n",
      "            \"mpg\": 27.5\n",
      "        },\n",
      "        {\n",
      "            \"model\": \"Ford Edge\",\n",
      "            \"mpg\": 24.1\n",
      "        }\n",
      "    ],\n",
      "    \"children\": [\n",
      "        \"Ann\",\n",
      "        \"Billy\"\n",
      "    ],\n",
      "    \"divorced\": false,\n",
      "    \"married\": true,\n",
      "    \"name\": \"John\",\n",
      "    \"pets\": null\n",
      "}\n"
     ]
    }
   ],
   "source": [
    "print(json.dumps(x_2, indent=4, sort_keys=True))"
   ]
  },
  {
   "cell_type": "markdown",
   "metadata": {},
   "source": [
    "#### Ejemplo 3"
   ]
  },
  {
   "cell_type": "code",
   "execution_count": 67,
   "metadata": {},
   "outputs": [
    {
     "name": "stdout",
     "output_type": "stream",
     "text": [
      "{\"name\": \"John\", \"age\": 30}\n",
      "[\"apple\", \"bananas\"]\n",
      "[\"apple\", \"bananas\"]\n",
      "\"hello\"\n",
      "42\n",
      "31.76\n",
      "true\n",
      "false\n",
      "null\n"
     ]
    }
   ],
   "source": [
    "print(json.dumps({\"name\": \"John\", \"age\": 30}))\n",
    "print(json.dumps([\"apple\", \"bananas\"]))\n",
    "print(json.dumps((\"apple\", \"bananas\")))\n",
    "print(json.dumps(\"hello\"))\n",
    "print(json.dumps(42))\n",
    "print(json.dumps(31.76))\n",
    "print(json.dumps(True))\n",
    "print(json.dumps(False))\n",
    "print(json.dumps(None))"
   ]
  },
  {
   "cell_type": "markdown",
   "metadata": {},
   "source": [
    "# Bibliografía:\n",
    "\n",
    "Diferencias entre datos estructurados y datos no estructurados:\n",
    "\n",
    "* https://agenciab12.com/noticia/diferencia-datos-estructurados-y-datos-no-estructurados\n",
    "\n",
    "* https://www.acens.com/wp-content/images/2014/02/bbdd-nosql-wp-acens.pdf\n",
    "\n",
    "¿Cuál es la diferencia entre YAML y JSON?:\n",
    "\n",
    "* https://www.dokry.com/9723\n",
    "\n",
    "YAML:\n",
    "\n",
    "* https://stackabuse.com/reading-and-writing-yaml-to-a-file-in-python/\n",
    "\n",
    "* http://blog.varunajayasiri.com/yamldb/\n",
    "\n",
    "* https://www.youtube.com/watch?v=hSuHnuNC8L4\n",
    "\n",
    "* https://www.kite.com/python/answers/how-to-parse-and-extract-data-from-a-yaml-file-in-python#:~:text=Use%20yaml.,parse%20it%2C%20returning%20a%20dictionary.\n",
    "\n",
    "JSON:\n",
    "\n",
    "* https://developer.mozilla.org/es/docs/Learn/JavaScript/Objects/JSON\n",
    "\n",
    "* https://www.w3schools.com/python/python_json.asp\n",
    "\n",
    "* https://www.diegocalvo.es/leer-y-escribir-json-en-python/\n",
    "\n",
    "PySpark:\n",
    "\n",
    "* https://medium.com/datos-y-ciencia/c%C3%B3mo-usar-pyspark-en-tu-computadora-dee7978d1a40"
   ]
  },
  {
   "cell_type": "code",
   "execution_count": null,
   "metadata": {},
   "outputs": [],
   "source": []
  }
 ],
 "metadata": {
  "kernelspec": {
   "display_name": "Python 3",
   "language": "python",
   "name": "python3"
  },
  "language_info": {
   "codemirror_mode": {
    "name": "ipython",
    "version": 3
   },
   "file_extension": ".py",
   "mimetype": "text/x-python",
   "name": "python",
   "nbconvert_exporter": "python",
   "pygments_lexer": "ipython3",
   "version": "3.8.3"
  }
 },
 "nbformat": 4,
 "nbformat_minor": 4
}
